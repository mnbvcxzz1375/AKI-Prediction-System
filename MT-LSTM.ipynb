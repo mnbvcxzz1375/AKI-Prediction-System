{
 "cells": [
  {
   "cell_type": "code",
   "execution_count": 1,
   "id": "598b580e-401a-448e-a8f6-f18b6284a59e",
   "metadata": {},
   "outputs": [
    {
     "name": "stdout",
     "output_type": "stream",
     "text": [
      "\n",
      "数据验证:\n",
      "X1形状: (19375, 8), X2形状: (19375, 39)\n",
      "正类比例: 56.15%\n"
     ]
    },
    {
     "name": "stderr",
     "output_type": "stream",
     "text": [
      "Epoch 1: 100%|███████████████████████████████████████████████████████████████████████████████████████████████████████████████████████████████████████| 243/243 [00:04<00:00, 59.93it/s]\n"
     ]
    },
    {
     "name": "stdout",
     "output_type": "stream",
     "text": [
      "\n",
      "Epoch 1/100\n",
      "Train Loss: 0.3583\n",
      "Val AUC: 0.9316 | F1: 0.8556 | Accuracy: 0.8446 | Precision: 0.8947\n",
      "Saved new best model with AUC: 0.9316\n"
     ]
    },
    {
     "name": "stderr",
     "output_type": "stream",
     "text": [
      "Epoch 2: 100%|██████████████████████████████████████████████████████████████████████████████████████████████████████████████████████████████████████| 243/243 [00:01<00:00, 131.68it/s]\n"
     ]
    },
    {
     "name": "stdout",
     "output_type": "stream",
     "text": [
      "\n",
      "Epoch 2/100\n",
      "Train Loss: 0.2816\n",
      "Val AUC: 0.9364 | F1: 0.8778 | Accuracy: 0.8650 | Precision: 0.8930\n",
      "Saved new best model with AUC: 0.9364\n"
     ]
    },
    {
     "name": "stderr",
     "output_type": "stream",
     "text": [
      "Epoch 3: 100%|██████████████████████████████████████████████████████████████████████████████████████████████████████████████████████████████████████| 243/243 [00:01<00:00, 133.58it/s]\n"
     ]
    },
    {
     "name": "stdout",
     "output_type": "stream",
     "text": [
      "\n",
      "Epoch 3/100\n",
      "Train Loss: 0.2698\n",
      "Val AUC: 0.9391 | F1: 0.8762 | Accuracy: 0.8645 | Precision: 0.8998\n",
      "Saved new best model with AUC: 0.9391\n"
     ]
    },
    {
     "name": "stderr",
     "output_type": "stream",
     "text": [
      "Epoch 4: 100%|██████████████████████████████████████████████████████████████████████████████████████████████████████████████████████████████████████| 243/243 [00:01<00:00, 131.58it/s]\n"
     ]
    },
    {
     "name": "stdout",
     "output_type": "stream",
     "text": [
      "\n",
      "Epoch 4/100\n",
      "Train Loss: 0.2533\n",
      "Val AUC: 0.9433 | F1: 0.8851 | Accuracy: 0.8728 | Precision: 0.8979\n",
      "Saved new best model with AUC: 0.9433\n"
     ]
    },
    {
     "name": "stderr",
     "output_type": "stream",
     "text": [
      "Epoch 5: 100%|██████████████████████████████████████████████████████████████████████████████████████████████████████████████████████████████████████| 243/243 [00:01<00:00, 128.50it/s]\n"
     ]
    },
    {
     "name": "stdout",
     "output_type": "stream",
     "text": [
      "\n",
      "Epoch 5/100\n",
      "Train Loss: 0.2419\n",
      "Val AUC: 0.9436 | F1: 0.8855 | Accuracy: 0.8754 | Precision: 0.9143\n",
      "Saved new best model with AUC: 0.9436\n"
     ]
    },
    {
     "name": "stderr",
     "output_type": "stream",
     "text": [
      "Epoch 6: 100%|██████████████████████████████████████████████████████████████████████████████████████████████████████████████████████████████████████| 243/243 [00:01<00:00, 133.48it/s]\n"
     ]
    },
    {
     "name": "stdout",
     "output_type": "stream",
     "text": [
      "\n",
      "Epoch 6/100\n",
      "Train Loss: 0.2473\n",
      "Val AUC: 0.9451 | F1: 0.8882 | Accuracy: 0.8761 | Precision: 0.9008\n",
      "Saved new best model with AUC: 0.9451\n"
     ]
    },
    {
     "name": "stderr",
     "output_type": "stream",
     "text": [
      "Epoch 7: 100%|██████████████████████████████████████████████████████████████████████████████████████████████████████████████████████████████████████| 243/243 [00:01<00:00, 131.71it/s]\n"
     ]
    },
    {
     "name": "stdout",
     "output_type": "stream",
     "text": [
      "\n",
      "Epoch 7/100\n",
      "Train Loss: 0.2386\n",
      "Val AUC: 0.9460 | F1: 0.8945 | Accuracy: 0.8813 | Precision: 0.8925\n",
      "Saved new best model with AUC: 0.9460\n"
     ]
    },
    {
     "name": "stderr",
     "output_type": "stream",
     "text": [
      "Epoch 8: 100%|██████████████████████████████████████████████████████████████████████████████████████████████████████████████████████████████████████| 243/243 [00:01<00:00, 129.04it/s]\n"
     ]
    },
    {
     "name": "stdout",
     "output_type": "stream",
     "text": [
      "\n",
      "Epoch 8/100\n",
      "Train Loss: 0.2310\n",
      "Val AUC: 0.9459 | F1: 0.8873 | Accuracy: 0.8764 | Precision: 0.9093\n"
     ]
    },
    {
     "name": "stderr",
     "output_type": "stream",
     "text": [
      "Epoch 9: 100%|██████████████████████████████████████████████████████████████████████████████████████████████████████████████████████████████████████| 243/243 [00:01<00:00, 133.08it/s]\n"
     ]
    },
    {
     "name": "stdout",
     "output_type": "stream",
     "text": [
      "\n",
      "Epoch 9/100\n",
      "Train Loss: 0.2364\n",
      "Val AUC: 0.9440 | F1: 0.8880 | Accuracy: 0.8766 | Precision: 0.9058\n"
     ]
    },
    {
     "name": "stderr",
     "output_type": "stream",
     "text": [
      "Epoch 10: 100%|█████████████████████████████████████████████████████████████████████████████████████████████████████████████████████████████████████| 243/243 [00:01<00:00, 130.49it/s]\n"
     ]
    },
    {
     "name": "stdout",
     "output_type": "stream",
     "text": [
      "\n",
      "Epoch 10/100\n",
      "Train Loss: 0.2284\n",
      "Val AUC: 0.9444 | F1: 0.8900 | Accuracy: 0.8774 | Precision: 0.8972\n"
     ]
    },
    {
     "name": "stderr",
     "output_type": "stream",
     "text": [
      "Epoch 11: 100%|█████████████████████████████████████████████████████████████████████████████████████████████████████████████████████████████████████| 243/243 [00:01<00:00, 125.34it/s]\n"
     ]
    },
    {
     "name": "stdout",
     "output_type": "stream",
     "text": [
      "\n",
      "Epoch 11/100\n",
      "Train Loss: 0.2112\n",
      "Val AUC: 0.9456 | F1: 0.8899 | Accuracy: 0.8792 | Precision: 0.9114\n"
     ]
    },
    {
     "name": "stderr",
     "output_type": "stream",
     "text": [
      "Epoch 12: 100%|█████████████████████████████████████████████████████████████████████████████████████████████████████████████████████████████████████| 243/243 [00:02<00:00, 112.30it/s]\n"
     ]
    },
    {
     "name": "stdout",
     "output_type": "stream",
     "text": [
      "\n",
      "Epoch 12/100\n",
      "Train Loss: 0.2161\n",
      "Val AUC: 0.9461 | F1: 0.8907 | Accuracy: 0.8795 | Precision: 0.9079\n",
      "Saved new best model with AUC: 0.9461\n"
     ]
    },
    {
     "name": "stderr",
     "output_type": "stream",
     "text": [
      "Epoch 13: 100%|█████████████████████████████████████████████████████████████████████████████████████████████████████████████████████████████████████| 243/243 [00:02<00:00, 119.20it/s]\n"
     ]
    },
    {
     "name": "stdout",
     "output_type": "stream",
     "text": [
      "\n",
      "Epoch 13/100\n",
      "Train Loss: 0.2076\n",
      "Val AUC: 0.9458 | F1: 0.8916 | Accuracy: 0.8803 | Precision: 0.9068\n"
     ]
    },
    {
     "name": "stderr",
     "output_type": "stream",
     "text": [
      "Epoch 14: 100%|█████████████████████████████████████████████████████████████████████████████████████████████████████████████████████████████████████| 243/243 [00:01<00:00, 123.96it/s]\n"
     ]
    },
    {
     "name": "stdout",
     "output_type": "stream",
     "text": [
      "\n",
      "Epoch 14/100\n",
      "Train Loss: 0.2079\n",
      "Val AUC: 0.9464 | F1: 0.8924 | Accuracy: 0.8813 | Precision: 0.9090\n",
      "Saved new best model with AUC: 0.9464\n"
     ]
    },
    {
     "name": "stderr",
     "output_type": "stream",
     "text": [
      "Epoch 15: 100%|█████████████████████████████████████████████████████████████████████████████████████████████████████████████████████████████████████| 243/243 [00:01<00:00, 129.30it/s]\n"
     ]
    },
    {
     "name": "stdout",
     "output_type": "stream",
     "text": [
      "\n",
      "Epoch 15/100\n",
      "Train Loss: 0.2006\n",
      "Val AUC: 0.9453 | F1: 0.8913 | Accuracy: 0.8810 | Precision: 0.9153\n"
     ]
    },
    {
     "name": "stderr",
     "output_type": "stream",
     "text": [
      "Epoch 16: 100%|█████████████████████████████████████████████████████████████████████████████████████████████████████████████████████████████████████| 243/243 [00:01<00:00, 136.91it/s]\n"
     ]
    },
    {
     "name": "stdout",
     "output_type": "stream",
     "text": [
      "\n",
      "Epoch 16/100\n",
      "Train Loss: 0.2056\n",
      "Val AUC: 0.9454 | F1: 0.8910 | Accuracy: 0.8800 | Precision: 0.9091\n",
      "Early stopping triggered!\n",
      "\n",
      "模型评估结果:\n",
      "AUC: 0.9655\n",
      "Accuracy: 0.9006\n",
      "Precision: 0.9287\n",
      "Recall: 0.8914\n",
      "F1: 0.9097\n"
     ]
    },
    {
     "data": {
      "image/png": "[encoded data removed]",
      "text/plain": [
       "<Figure size 800x600 with 1 Axes>"
      ]
     },
     "metadata": {},
     "output_type": "display_data"
    }
   ],
   "source": [
    "import random\n",
    "import pandas as pd\n",
    "import numpy as np\n",
    "from sklearn.model_selection import StratifiedKFold\n",
    "from sklearn.metrics import (accuracy_score, precision_score,\n",
    "                             recall_score, f1_score, roc_auc_score,\n",
    "                             roc_curve)\n",
    "import torch\n",
    "import torch.nn as nn\n",
    "import torch.optim as optim\n",
    "from torch.utils.data import (DataLoader, TensorDataset,\n",
    "                              WeightedRandomSampler)\n",
    "import matplotlib.pyplot as plt\n",
    "from torchvision.transforms import Compose\n",
    "from tqdm import tqdm\n",
    "\n",
    "# 固定随机种子\n",
    "random.seed(42)\n",
    "np.random.seed(42)\n",
    "torch.manual_seed(42)\n",
    "if torch.cuda.is_available():\n",
    "    torch.cuda.manual_seed_all(42)\n",
    "torch.backends.cudnn.deterministic = True\n",
    "torch.backends.cudnn.benchmark = False\n",
    "\n",
    "device = torch.device('cuda' if torch.cuda.is_available() else 'cpu')\n",
    "\n",
    "# --------------------------\n",
    "# 时间序列增强模块\n",
    "# --------------------------\n",
    "class TemporalAugmentation:\n",
    "    \"\"\"时间序列数据增强\"\"\"\n",
    "    def __init__(self, sigma=0.1, p=0.5):\n",
    "        self.sigma = sigma  # 噪声强度\n",
    "        self.p = p  # 应用概率\n",
    "\n",
    "    def __call__(self, x):\n",
    "        if np.random.rand() < self.p:\n",
    "            noise = torch.randn_like(x) * self.sigma\n",
    "            return x + noise\n",
    "        return x\n",
    "\n",
    "# --------------------------\n",
    "# MT-LSTM模型架构\n",
    "# --------------------------\n",
    "class LSTMBranch(nn.Module):\n",
    "    \"\"\"LSTM分支处理单个数据流\"\"\"\n",
    "    def __init__(self, input_dim, hidden_dim=128, num_layers=2):\n",
    "        super().__init__()\n",
    "        self.augment = TemporalAugmentation(sigma=0.05, p=0.3)\n",
    "        self.lstm = nn.LSTM(\n",
    "            input_size=input_dim,\n",
    "            hidden_size=hidden_dim,\n",
    "            num_layers=num_layers,\n",
    "            batch_first=True,\n",
    "            bidirectional=True,\n",
    "        )\n",
    "        self.dropout = nn.Dropout(0.3)\n",
    "        self.fc = nn.Linear(hidden_dim*2, 32)  # 双向LSTM输出\n",
    "\n",
    "    def forward(self, x, augment=True):\n",
    "        if self.training and augment:\n",
    "                x = self.augment(x)\n",
    "        x = x.unsqueeze(1)  # 添加时间步维度 (batch, 1, features)\n",
    "        output, (h_n, c_n) = self.lstm(x)\n",
    "        output = output.squeeze(1)  # 移除时间步维度\n",
    "        output = self.dropout(output)\n",
    "        return self.fc(output)\n",
    "\n",
    "class MTLSTM(nn.Module):\n",
    "    \"\"\"多时间序列LSTM融合模型\"\"\"\n",
    "    def __init__(self, input_dim1, input_dim2):\n",
    "        super().__init__()\n",
    "        self.branch1 = LSTMBranch(input_dim1)\n",
    "        self.branch2 = LSTMBranch(input_dim2)\n",
    "        \n",
    "        self.classifier = nn.Sequential(\n",
    "            nn.Linear(64, 32),  # 两个分支各32维拼接\n",
    "            nn.GELU(),\n",
    "            nn.Dropout(0.5),\n",
    "            nn.Linear(32, 1)\n",
    "        )\n",
    "\n",
    "    def forward(self, x1, x2):\n",
    "        out1 = self.branch1(x1)\n",
    "        out2 = self.branch2(x2)\n",
    "        combined = torch.cat([out1, out2], dim=1)\n",
    "        return self.classifier(combined).squeeze(1)\n",
    "\n",
    "# --------------------------\n",
    "# 训练评估模块（优化版）\n",
    "# --------------------------\n",
    "def train_and_evaluate(model, train_loader, val_loader, optimizer, criterion,\n",
    "                       scheduler=None, epochs=30, save_path='best_model.pth'):\n",
    "    history = {'train_loss': [], 'val_auc': [], 'val_f1': [],\n",
    "               'val_accuracy': [], 'val_precision': []}\n",
    "    best_auc = 0\n",
    "    early_stop = EarlyStopper(patience=10)\n",
    "\n",
    "    for epoch in range(epochs):\n",
    "        # 训练阶段\n",
    "        model.train()\n",
    "        train_loss = 0\n",
    "        for X1, X2, y in tqdm(train_loader, desc=f\"Epoch {epoch+1}\"):\n",
    "            X1, X2, y = X1.to(device), X2.to(device), y.to(device)\n",
    "            optimizer.zero_grad()\n",
    "            outputs = model(X1, X2)\n",
    "            loss = criterion(outputs, y)\n",
    "            loss.backward()\n",
    "            optimizer.step()\n",
    "            train_loss += loss.item()\n",
    "        train_loss /= len(train_loader)\n",
    "        history['train_loss'].append(train_loss)\n",
    "\n",
    "        # 验证阶段\n",
    "        model.eval()\n",
    "        y_true, y_probs = [], []\n",
    "        with torch.no_grad():\n",
    "            for X1, X2, y in val_loader:\n",
    "                X1, X2 = X1.to(device), X2.to(device)\n",
    "                outputs = model(X1, X2)\n",
    "                y_true.extend(y.cpu().numpy())\n",
    "                y_probs.extend(torch.sigmoid(outputs).cpu().numpy())\n",
    "\n",
    "        # 计算指标\n",
    "        auc = roc_auc_score(y_true, y_probs)\n",
    "        preds = np.round(y_probs)\n",
    "        f1 = f1_score(y_true, preds)\n",
    "        accuracy = accuracy_score(y_true, preds)\n",
    "        precision = precision_score(y_true, preds)\n",
    "\n",
    "        history['val_auc'].append(auc)\n",
    "        history['val_f1'].append(f1)\n",
    "        history['val_accuracy'].append(accuracy)\n",
    "        history['val_precision'].append(precision)\n",
    "\n",
    "        # 学习率调度\n",
    "        if scheduler:\n",
    "            if isinstance(scheduler, torch.optim.lr_scheduler.ReduceLROnPlateau):\n",
    "                scheduler.step(auc)\n",
    "            else:\n",
    "                scheduler.step()\n",
    "\n",
    "        print(f\"\\nEpoch {epoch + 1}/{epochs}\")\n",
    "        print(f\"Train Loss: {train_loss:.4f}\")\n",
    "        print(f\"Val AUC: {auc:.4f} | F1: {f1:.4f} | Accuracy: {accuracy:.4f} | Precision: {precision:.4f}\")\n",
    "\n",
    "        # 保存最佳模型\n",
    "        if auc > best_auc:\n",
    "            best_auc = auc\n",
    "            torch.save(model.state_dict(), save_path)\n",
    "            print(f\"Saved new best model with AUC: {auc:.4f}\")\n",
    "\n",
    "        if early_stop(auc):\n",
    "            print(\"Early stopping triggered!\")\n",
    "            break\n",
    "\n",
    "    model.load_state_dict(torch.load(save_path))\n",
    "    return model, history\n",
    "\n",
    "# --------------------------\n",
    "# 辅助函数补充\n",
    "# --------------------------\n",
    "def calc_pos_weight(y):\n",
    "    \"\"\"计算正样本权重\"\"\"\n",
    "    pos = np.sum(y)\n",
    "    neg = len(y) - pos\n",
    "    return torch.tensor([neg / pos]).to(device) if pos > 0 else torch.tensor([1.0]).to(device)\n",
    "\n",
    "def calc_sample_weights(y):\n",
    "    \"\"\"计算样本权重用于加权采样\"\"\"\n",
    "    class_counts = np.bincount(y.astype(int))\n",
    "    class_weights = 1. / class_counts\n",
    "    return torch.tensor([class_weights[int(label)] for label in y])\n",
    "\n",
    "class EarlyStopper:\n",
    "    def __init__(self, patience=10, min_delta=0.005):\n",
    "        self.patience = patience\n",
    "        self.min_delta = min_delta\n",
    "        self.counter = 0\n",
    "        self.best_score = None\n",
    "\n",
    "    def __call__(self, score):\n",
    "        if self.best_score is None:\n",
    "            self.best_score = score\n",
    "        elif score < self.best_score + self.min_delta:\n",
    "            self.counter += 1\n",
    "            if self.counter >= self.patience:\n",
    "                return True\n",
    "        else:\n",
    "            self.best_score = score\n",
    "            self.counter = 0\n",
    "        return False\n",
    "\n",
    "\n",
    "# --------------------------\n",
    "# 辅助函数（需要调整）\n",
    "# --------------------------\n",
    "def create_loaders(dataset):\n",
    "    \"\"\"创建数据加载器（适配双输入）\"\"\"\n",
    "    y = dataset.tensors[2].numpy()\n",
    "    skf = StratifiedKFold(n_splits=5, shuffle=True, random_state=42)\n",
    "    train_idx, val_idx = next(skf.split(np.zeros(len(y)), y))\n",
    "    \n",
    "    train_dataset = torch.utils.data.Subset(dataset, train_idx)\n",
    "    val_dataset = torch.utils.data.Subset(dataset, val_idx)\n",
    "    \n",
    "    # 类别平衡采样\n",
    "    y_train = y[train_idx]\n",
    "    sampler = WeightedRandomSampler(\n",
    "        weights=calc_sample_weights(y_train),\n",
    "        num_samples=len(train_dataset),\n",
    "        replacement=True\n",
    "    )\n",
    "    \n",
    "    train_loader = DataLoader(train_dataset, batch_size=64, sampler=sampler)\n",
    "    val_loader = DataLoader(val_dataset, batch_size=64)\n",
    "    return train_loader, val_loader\n",
    "\n",
    "def evaluate_model(model, X1, X2, y):\n",
    "    dataset = TensorDataset(torch.FloatTensor(X1), torch.FloatTensor(X2), torch.FloatTensor(y))\n",
    "    loader = DataLoader(dataset, batch_size=256, shuffle=False)\n",
    "    \n",
    "    model.eval()\n",
    "    probs, truths = [], []\n",
    "    with torch.no_grad():\n",
    "        for X1_batch, X2_batch, y_batch in loader:\n",
    "            X1_batch, X2_batch = X1_batch.to(device), X2_batch.to(device)\n",
    "            batch_probs = torch.sigmoid(model(X1_batch, X2_batch)).cpu().numpy()\n",
    "            probs.extend(batch_probs)\n",
    "            truths.extend(y_batch.cpu().numpy())\n",
    "    \n",
    "    truths = np.array(truths)\n",
    "    probs = np.array(probs)\n",
    "    preds = np.round(probs)\n",
    "    \n",
    "    print(\"\\n模型评估结果:\")\n",
    "    print(f\"AUC: {roc_auc_score(truths, probs):.4f}\")\n",
    "    print(f\"Accuracy: {accuracy_score(truths, preds):.4f}\")\n",
    "    print(f\"Precision: {precision_score(truths, preds):.4f}\")\n",
    "    print(f\"Recall: {recall_score(truths, preds):.4f}\")\n",
    "    print(f\"F1: {f1_score(truths, preds):.4f}\")\n",
    "\n",
    "    # 绘制ROC曲线\n",
    "    fpr, tpr, _ = roc_curve(truths, probs)\n",
    "    plt.figure(figsize=(8, 6))\n",
    "    plt.plot(fpr, tpr, label=f'AUC = {roc_auc_score(truths, probs):.2f}')\n",
    "    plt.plot([0, 1], [0, 1], 'k--')\n",
    "    plt.xlabel('False Positive Rate')\n",
    "    plt.ylabel('True Positive Rate')\n",
    "    plt.title('ROC Curve')\n",
    "    plt.legend()\n",
    "    plt.show()\n",
    "\n",
    "# --------------------------\n",
    "# 主流程\n",
    "# --------------------------\n",
    "if __name__ == \"__main__\":\n",
    "    # 加载数据\n",
    "    df1 = pd.read_csv('./data/cleaned_microbiologyevents_plus.csv')\n",
    "    df2 = pd.read_csv('./data/cleaned_labs_first_day_lgbm.csv')\n",
    "    target = 'match_flag'\n",
    "\n",
    "    # 数据对齐\n",
    "    common_ids = np.intersect1d(df1['hadm_id'], df2['hadm_id'])\n",
    "    df1 = df1[df1['hadm_id'].isin(common_ids)].sort_values('hadm_id').reset_index(drop=True)\n",
    "    df2 = df2[df2['hadm_id'].isin(common_ids)].sort_values('hadm_id').reset_index(drop=True)\n",
    "\n",
    "    # 特征工程\n",
    "    feature_names1 = df1.drop(columns=[target, 'hadm_id']).columns.tolist()\n",
    "    feature_names2 = df2.drop(columns=[target, 'hadm_id']).columns.tolist()\n",
    "    X1 = df1.drop(columns=[target, 'hadm_id']).values.astype(np.float32)\n",
    "    X2 = df2.drop(columns=[target, 'hadm_id']).values.astype(np.float32)\n",
    "    y = df1[target].values.astype(np.float32)\n",
    "\n",
    "    # 数据验证\n",
    "    print(\"\\n数据验证:\")\n",
    "    print(f\"X1形状: {X1.shape}, X2形状: {X2.shape}\")\n",
    "    print(f\"正类比例: {np.mean(y):.2%}\")\n",
    "\n",
    "    # 创建数据集\n",
    "    dataset = TensorDataset(\n",
    "        torch.FloatTensor(X1), \n",
    "        torch.FloatTensor(X2), \n",
    "        torch.FloatTensor(y)\n",
    "    )\n",
    "    train_loader, val_loader = create_loaders(dataset)\n",
    "\n",
    "    # 初始化模型\n",
    "    model = MTLSTM(\n",
    "        input_dim1=X1.shape[1], \n",
    "        input_dim2=X2.shape[1]\n",
    "    ).to(device)\n",
    "    \n",
    "    optimizer = optim.AdamW(model.parameters(), lr=0.001, weight_decay=1e-4)\n",
    "    criterion = nn.BCEWithLogitsLoss(pos_weight=calc_pos_weight(y))\n",
    "    scheduler = optim.lr_scheduler.ReduceLROnPlateau(optimizer, mode='max', factor=0.1, patience=3)\n",
    "\n",
    "    # 训练模型\n",
    "    model, history = train_and_evaluate(\n",
    "        model, train_loader, val_loader,\n",
    "        optimizer, criterion, scheduler,\n",
    "        epochs=100, save_path='best_mt_lstm.pth'\n",
    "    )\n",
    "\n",
    "    # 最终评估\n",
    "    evaluate_model(model, X1, X2, y)\n",
    "\n",
    "    # 特征重要性分析（需调整）\n",
    "    # 注意：此处需要实现双输入版本的feature_importance\n"
   ]
  },
  {
   "cell_type": "code",
   "execution_count": 2,
   "id": "e69cad82-e40a-4b40-88a3-bfbcdc7c5246",
   "metadata": {},
   "outputs": [
    {
     "name": "stderr",
     "output_type": "stream",
     "text": [
      "Epoch 1: 100%|███████████████████████████████████████████████████████████████████████████████████████████████████████████████████████████████████████| 243/243 [00:04<00:00, 57.09it/s]\n"
     ]
    },
    {
     "name": "stdout",
     "output_type": "stream",
     "text": [
      "\n",
      "Epoch 1/100\n",
      "Train Loss: 0.4169\n",
      "Val AUC: 0.9272 | F1: 0.8656 | Accuracy: 0.8524 | Precision: 0.8856\n",
      "Saved new best model with AUC: 0.9272\n"
     ]
    },
    {
     "name": "stderr",
     "output_type": "stream",
     "text": [
      "Epoch 2: 100%|███████████████████████████████████████████████████████████████████████████████████████████████████████████████████████████████████████| 243/243 [00:03<00:00, 61.61it/s]\n"
     ]
    },
    {
     "name": "stdout",
     "output_type": "stream",
     "text": [
      "\n",
      "Epoch 2/100\n",
      "Train Loss: 0.3231\n",
      "Val AUC: 0.9279 | F1: 0.8667 | Accuracy: 0.8542 | Precision: 0.8908\n",
      "Saved new best model with AUC: 0.9279\n"
     ]
    },
    {
     "name": "stderr",
     "output_type": "stream",
     "text": [
      "Epoch 3: 100%|███████████████████████████████████████████████████████████████████████████████████████████████████████████████████████████████████████| 243/243 [00:04<00:00, 59.59it/s]\n"
     ]
    },
    {
     "name": "stdout",
     "output_type": "stream",
     "text": [
      "\n",
      "Epoch 3/100\n",
      "Train Loss: 0.3007\n",
      "Val AUC: 0.9377 | F1: 0.8627 | Accuracy: 0.8542 | Precision: 0.9154\n",
      "Saved new best model with AUC: 0.9377\n"
     ]
    },
    {
     "name": "stderr",
     "output_type": "stream",
     "text": [
      "Epoch 4: 100%|███████████████████████████████████████████████████████████████████████████████████████████████████████████████████████████████████████| 243/243 [00:03<00:00, 60.99it/s]\n"
     ]
    },
    {
     "name": "stdout",
     "output_type": "stream",
     "text": [
      "\n",
      "Epoch 4/100\n",
      "Train Loss: 0.2753\n",
      "Val AUC: 0.9425 | F1: 0.8909 | Accuracy: 0.8769 | Precision: 0.8867\n",
      "Saved new best model with AUC: 0.9425\n"
     ]
    },
    {
     "name": "stderr",
     "output_type": "stream",
     "text": [
      "Epoch 5: 100%|███████████████████████████████████████████████████████████████████████████████████████████████████████████████████████████████████████| 243/243 [00:04<00:00, 58.62it/s]\n"
     ]
    },
    {
     "name": "stdout",
     "output_type": "stream",
     "text": [
      "\n",
      "Epoch 5/100\n",
      "Train Loss: 0.2756\n",
      "Val AUC: 0.9442 | F1: 0.8843 | Accuracy: 0.8738 | Precision: 0.9117\n",
      "Saved new best model with AUC: 0.9442\n"
     ]
    },
    {
     "name": "stderr",
     "output_type": "stream",
     "text": [
      "Epoch 6: 100%|███████████████████████████████████████████████████████████████████████████████████████████████████████████████████████████████████████| 243/243 [00:04<00:00, 56.98it/s]\n"
     ]
    },
    {
     "name": "stdout",
     "output_type": "stream",
     "text": [
      "\n",
      "Epoch 6/100\n",
      "Train Loss: 0.2688\n",
      "Val AUC: 0.9428 | F1: 0.8843 | Accuracy: 0.8733 | Precision: 0.9072\n"
     ]
    },
    {
     "name": "stderr",
     "output_type": "stream",
     "text": [
      "Epoch 7: 100%|███████████████████████████████████████████████████████████████████████████████████████████████████████████████████████████████████████| 243/243 [00:04<00:00, 60.29it/s]\n"
     ]
    },
    {
     "name": "stdout",
     "output_type": "stream",
     "text": [
      "\n",
      "Epoch 7/100\n",
      "Train Loss: 0.2619\n",
      "Val AUC: 0.9419 | F1: 0.8886 | Accuracy: 0.8761 | Precision: 0.8977\n"
     ]
    },
    {
     "name": "stderr",
     "output_type": "stream",
     "text": [
      "Epoch 8: 100%|███████████████████████████████████████████████████████████████████████████████████████████████████████████████████████████████████████| 243/243 [00:04<00:00, 60.26it/s]\n"
     ]
    },
    {
     "name": "stdout",
     "output_type": "stream",
     "text": [
      "\n",
      "Epoch 8/100\n",
      "Train Loss: 0.2591\n",
      "Val AUC: 0.9426 | F1: 0.8891 | Accuracy: 0.8779 | Precision: 0.9072\n"
     ]
    },
    {
     "name": "stderr",
     "output_type": "stream",
     "text": [
      "Epoch 9: 100%|███████████████████████████████████████████████████████████████████████████████████████████████████████████████████████████████████████| 243/243 [00:04<00:00, 59.79it/s]\n"
     ]
    },
    {
     "name": "stdout",
     "output_type": "stream",
     "text": [
      "\n",
      "Epoch 9/100\n",
      "Train Loss: 0.2593\n",
      "Val AUC: 0.9414 | F1: 0.8885 | Accuracy: 0.8782 | Precision: 0.9140\n"
     ]
    },
    {
     "name": "stderr",
     "output_type": "stream",
     "text": [
      "Epoch 10: 100%|██████████████████████████████████████████████████████████████████████████████████████████████████████████████████████████████████████| 243/243 [00:03<00:00, 63.77it/s]\n"
     ]
    },
    {
     "name": "stdout",
     "output_type": "stream",
     "text": [
      "\n",
      "Epoch 10/100\n",
      "Train Loss: 0.2439\n",
      "Val AUC: 0.9417 | F1: 0.8794 | Accuracy: 0.8697 | Precision: 0.9151\n"
     ]
    },
    {
     "name": "stderr",
     "output_type": "stream",
     "text": [
      "Epoch 11: 100%|██████████████████████████████████████████████████████████████████████████████████████████████████████████████████████████████████████| 243/243 [00:03<00:00, 64.64it/s]\n"
     ]
    },
    {
     "name": "stdout",
     "output_type": "stream",
     "text": [
      "Epoch    11: reducing learning rate of group 0 to 2.0000e-04.\n",
      "\n",
      "Epoch 11/100\n",
      "Train Loss: 0.2521\n",
      "Val AUC: 0.9426 | F1: 0.8881 | Accuracy: 0.8766 | Precision: 0.9054\n"
     ]
    },
    {
     "name": "stderr",
     "output_type": "stream",
     "text": [
      "Epoch 12: 100%|██████████████████████████████████████████████████████████████████████████████████████████████████████████████████████████████████████| 243/243 [00:03<00:00, 64.22it/s]\n"
     ]
    },
    {
     "name": "stdout",
     "output_type": "stream",
     "text": [
      "\n",
      "Epoch 12/100\n",
      "Train Loss: 0.2369\n",
      "Val AUC: 0.9463 | F1: 0.8938 | Accuracy: 0.8826 | Precision: 0.9080\n",
      "Saved new best model with AUC: 0.9463\n"
     ]
    },
    {
     "name": "stderr",
     "output_type": "stream",
     "text": [
      "Epoch 13: 100%|██████████████████████████████████████████████████████████████████████████████████████████████████████████████████████████████████████| 243/243 [00:03<00:00, 62.76it/s]\n"
     ]
    },
    {
     "name": "stdout",
     "output_type": "stream",
     "text": [
      "\n",
      "Epoch 13/100\n",
      "Train Loss: 0.2345\n",
      "Val AUC: 0.9472 | F1: 0.8911 | Accuracy: 0.8803 | Precision: 0.9107\n",
      "Saved new best model with AUC: 0.9472\n"
     ]
    },
    {
     "name": "stderr",
     "output_type": "stream",
     "text": [
      "Epoch 14: 100%|██████████████████████████████████████████████████████████████████████████████████████████████████████████████████████████████████████| 243/243 [00:03<00:00, 62.50it/s]\n"
     ]
    },
    {
     "name": "stdout",
     "output_type": "stream",
     "text": [
      "\n",
      "Epoch 14/100\n",
      "Train Loss: 0.2263\n",
      "Val AUC: 0.9460 | F1: 0.8944 | Accuracy: 0.8831 | Precision: 0.9077\n"
     ]
    },
    {
     "name": "stderr",
     "output_type": "stream",
     "text": [
      "Epoch 15: 100%|██████████████████████████████████████████████████████████████████████████████████████████████████████████████████████████████████████| 243/243 [00:03<00:00, 64.80it/s]\n"
     ]
    },
    {
     "name": "stdout",
     "output_type": "stream",
     "text": [
      "\n",
      "Epoch 15/100\n",
      "Train Loss: 0.2272\n",
      "Val AUC: 0.9463 | F1: 0.8964 | Accuracy: 0.8852 | Precision: 0.9081\n",
      "Early stopping triggered!\n",
      "\n",
      "模型评估结果:\n",
      "AUC: 0.9470\n",
      "Accuracy: 0.8662\n",
      "Precision: 0.8468\n",
      "Recall: 0.9299\n",
      "F1: 0.8864\n"
     ]
    },
    {
     "data": {
      "image/png": "[encoded data removed]",
      "text/plain": [
       "<Figure size 800x600 with 1 Axes>"
      ]
     },
     "metadata": {},
     "output_type": "display_data"
    }
   ],
   "source": [
    "import random\n",
    "import pandas as pd\n",
    "import numpy as np\n",
    "from sklearn.model_selection import StratifiedKFold\n",
    "from sklearn.metrics import (accuracy_score, precision_score,\n",
    "                             recall_score, f1_score, roc_auc_score,\n",
    "                             roc_curve)\n",
    "from sklearn.preprocessing import StandardScaler\n",
    "import torch\n",
    "import torch.nn as nn\n",
    "import torch.optim as optim\n",
    "from torch.utils.data import (DataLoader, TensorDataset,\n",
    "                              WeightedRandomSampler)\n",
    "import matplotlib.pyplot as plt\n",
    "from torch.nn.utils import clip_grad_norm_\n",
    "from tqdm import tqdm\n",
    "\n",
    "# 固定随机种子\n",
    "random.seed(42)\n",
    "np.random.seed(42)\n",
    "torch.manual_seed(42)\n",
    "if torch.cuda.is_available():\n",
    "    torch.cuda.manual_seed_all(42)\n",
    "torch.backends.cudnn.deterministic = True\n",
    "torch.backends.cudnn.benchmark = False\n",
    "\n",
    "device = torch.device('cuda' if torch.cuda.is_available() else 'cpu')\n",
    "\n",
    "# --------------------------\n",
    "# 时间序列增强模块（增强版）\n",
    "# --------------------------\n",
    "class TemporalAugmentation:\n",
    "    \"\"\"时间序列数据增强\"\"\"\n",
    "    def __init__(self, sigma=0.1, p=0.5, scaling_factor=0.1):\n",
    "        self.sigma = sigma\n",
    "        self.p = p\n",
    "        self.scaling_factor = scaling_factor\n",
    "\n",
    "    def __call__(self, x):\n",
    "        if np.random.rand() < self.p:\n",
    "            # 随机选择增强方式\n",
    "            if np.random.rand() < 0.5:\n",
    "                # 添加高斯噪声\n",
    "                noise = torch.randn_like(x) * self.sigma\n",
    "                return x + noise\n",
    "            else:\n",
    "                # 随机缩放\n",
    "                scale = 1 + (torch.rand(x.size(1)) * 2 - 1) * self.scaling_factor\n",
    "                return x * scale.to(x.device)\n",
    "        return x\n",
    "\n",
    "# --------------------------\n",
    "# MT-LSTM模型架构（含注意力机制）\n",
    "# --------------------------\n",
    "class AttentionLayer(nn.Module):\n",
    "    \"\"\"特征级注意力机制\"\"\"\n",
    "    def __init__(self, feature_dim):\n",
    "        super().__init__()\n",
    "        self.attention = nn.Sequential(\n",
    "            nn.Linear(feature_dim, feature_dim//2),\n",
    "            nn.Tanh(),\n",
    "            nn.Linear(feature_dim//2, 1),\n",
    "            nn.Softmax(dim=1)\n",
    "        )\n",
    "    def forward(self, x):\n",
    "        attn_weights = self.attention(x)\n",
    "        return x * attn_weights\n",
    "\n",
    "class LSTMBranch(nn.Module):\n",
    "    \"\"\"LSTM分支处理单个数据流（含注意力）\"\"\"\n",
    "    def __init__(self, input_dim, hidden_dim=128, num_layers=2):\n",
    "        super().__init__()\n",
    "        self.augment = TemporalAugmentation(sigma=0.05, p=0.3)\n",
    "        \n",
    "        # LSTM层\n",
    "        self.lstm = nn.LSTM(\n",
    "            input_size=input_dim,\n",
    "            hidden_size=hidden_dim,\n",
    "            num_layers=num_layers,\n",
    "            batch_first=True,\n",
    "            bidirectional=True\n",
    "        )\n",
    "        \n",
    "        # 注意力层\n",
    "        self.attn = AttentionLayer(hidden_dim*2)\n",
    "        \n",
    "        # 输出层\n",
    "        self.dropout = nn.Dropout(0.3)\n",
    "        self.fc = nn.Linear(hidden_dim*2, 32)\n",
    "        \n",
    "        # 初始化权重\n",
    "        for name, param in self.lstm.named_parameters():\n",
    "            if 'weight' in name:\n",
    "                nn.init.xavier_normal_(param)\n",
    "            elif 'bias' in name:\n",
    "                nn.init.constant_(param, 0.0)\n",
    "        nn.init.xavier_normal_(self.fc.weight)\n",
    "        nn.init.constant_(self.fc.bias, 0.0)\n",
    "\n",
    "    def forward(self, x, augment=True):\n",
    "        if self.training and augment:\n",
    "            x = self.augment(x)\n",
    "        \n",
    "        # 调整维度 [batch, 1, features]\n",
    "        x = x.unsqueeze(1)\n",
    "        \n",
    "        # LSTM处理\n",
    "        output, (h_n, c_n) = self.lstm(x)\n",
    "        output = output.squeeze(1)\n",
    "        \n",
    "        # 特征注意力\n",
    "        output = self.attn(output)\n",
    "        output = self.dropout(output)\n",
    "        return self.fc(output)\n",
    "\n",
    "class CrossAttention(nn.Module):\n",
    "    \"\"\"交叉注意力机制（修正版）\"\"\"\n",
    "    def __init__(self, feature_dim):\n",
    "        super().__init__()\n",
    "        self.query = nn.Linear(feature_dim, feature_dim)\n",
    "        self.key = nn.Linear(feature_dim, feature_dim)\n",
    "        self.value = nn.Linear(feature_dim, feature_dim)\n",
    "        self.softmax = nn.Softmax(dim=-1)  # 修正维度\n",
    "        \n",
    "    def forward(self, x1, x2):\n",
    "        # 维度调整\n",
    "        Q = self.query(x1).unsqueeze(2)  # [B, D, 1]\n",
    "        K = self.key(x2).unsqueeze(1)    # [B, 1, D]\n",
    "        V = self.value(x2).unsqueeze(2)  # [B, D, 1] 增加维度\n",
    "        \n",
    "        # 计算注意力分数\n",
    "        scores = torch.matmul(Q, K) / np.sqrt(x1.size(1))  # [B, D, D]\n",
    "        attn = self.softmax(scores)\n",
    "        \n",
    "        # 加权求和并压缩维度\n",
    "        return torch.matmul(attn, V).squeeze(-1)  # [B, D]\n",
    "\n",
    "\n",
    "class MTLSTM(nn.Module):\n",
    "    \"\"\"多时间序列LSTM融合模型（含交叉注意力）\"\"\"\n",
    "    def __init__(self, input_dim1, input_dim2):\n",
    "        super().__init__()\n",
    "        self.branch1 = LSTMBranch(input_dim1)\n",
    "        self.branch2 = LSTMBranch(input_dim2)\n",
    "        \n",
    "        # 交叉注意力\n",
    "        self.cross_attn = CrossAttention(32)\n",
    "        \n",
    "        # Transformer编码层\n",
    "        encoder_layer = nn.TransformerEncoderLayer(\n",
    "            d_model=64, nhead=8, dim_feedforward=256, dropout=0.3\n",
    "        )\n",
    "        self.transformer_encoder = nn.TransformerEncoder(encoder_layer, num_layers=2)\n",
    "        \n",
    "        # 分类器\n",
    "        self.classifier = nn.Sequential(\n",
    "            nn.LayerNorm(64),\n",
    "            nn.Linear(64, 32),\n",
    "            nn.GELU(),\n",
    "            nn.Dropout(0.5),\n",
    "            nn.Linear(32, 1)\n",
    "        )\n",
    "        \n",
    "        # 初始化权重\n",
    "        for m in self.modules():\n",
    "            if isinstance(m, nn.Linear):\n",
    "                nn.init.kaiming_normal_(m.weight)\n",
    "                if m.bias is not None:\n",
    "                    nn.init.constant_(m.bias, 0)\n",
    "\n",
    "    def forward(self, x1, x2):\n",
    "        out1 = self.branch1(x1)  # [B, 32]\n",
    "        out2 = self.branch2(x2)  # [B, 32]\n",
    "        \n",
    "        # 交叉注意力\n",
    "        cross_feat = self.cross_attn(out1, out2)  # [B, 32]\n",
    "        \n",
    "        # 特征拼接\n",
    "        combined = torch.cat([out1, out2], dim=1)  # [B, 64]\n",
    "        \n",
    "        # Transformer编码\n",
    "        combined = combined.unsqueeze(1)  # [B, 1, 64]\n",
    "        combined = combined.permute(1, 0, 2)  # [1, B, 64]\n",
    "        encoded = self.transformer_encoder(combined)  # [1, B, 64]\n",
    "        encoded = encoded.squeeze(0)  # [B, 64]\n",
    "        \n",
    "        # 最终分类\n",
    "        return self.classifier(encoded).squeeze(1)\n",
    "\n",
    "# --------------------------\n",
    "# 训练评估模块（优化版）\n",
    "# --------------------------\n",
    "def train_and_evaluate(model, train_loader, val_loader, optimizer, criterion,\n",
    "                       scheduler=None, epochs=30, save_path='best_model.pth'):\n",
    "    history = {'train_loss': [], 'val_auc': [], 'val_f1': [],\n",
    "               'val_accuracy': [], 'val_precision': []}\n",
    "    best_auc = 0\n",
    "    early_stop = EarlyStopper(patience=10)\n",
    "\n",
    "    for epoch in range(epochs):\n",
    "        # 训练阶段\n",
    "        model.train()\n",
    "        train_loss = 0\n",
    "        for X1, X2, y in tqdm(train_loader, desc=f\"Epoch {epoch+1}\"):\n",
    "            X1, X2, y = X1.to(device), X2.to(device), y.to(device)\n",
    "            optimizer.zero_grad()\n",
    "            outputs = model(X1, X2)\n",
    "            loss = criterion(outputs, y)\n",
    "            loss.backward()\n",
    "            \n",
    "            # 梯度裁剪\n",
    "            clip_grad_norm_(model.parameters(), max_norm=1.0)\n",
    "            \n",
    "            optimizer.step()\n",
    "            train_loss += loss.item()\n",
    "        train_loss /= len(train_loader)\n",
    "        history['train_loss'].append(train_loss)\n",
    "\n",
    "        # 验证阶段\n",
    "        model.eval()\n",
    "        y_true, y_probs = [], []\n",
    "        with torch.no_grad():\n",
    "            for X1, X2, y in val_loader:\n",
    "                X1, X2 = X1.to(device), X2.to(device)\n",
    "                outputs = model(X1, X2)\n",
    "                y_true.extend(y.cpu().numpy())\n",
    "                y_probs.extend(torch.sigmoid(outputs).cpu().numpy())\n",
    "\n",
    "        # 计算指标\n",
    "        auc = roc_auc_score(y_true, y_probs)\n",
    "        preds = np.round(y_probs)\n",
    "        f1 = f1_score(y_true, preds)\n",
    "        accuracy = accuracy_score(y_true, preds)\n",
    "        precision = precision_score(y_true, preds)\n",
    "\n",
    "        history['val_auc'].append(auc)\n",
    "        history['val_f1'].append(f1)\n",
    "        history['val_accuracy'].append(accuracy)\n",
    "        history['val_precision'].append(precision)\n",
    "\n",
    "        # 学习率调度\n",
    "        if scheduler:\n",
    "            scheduler.step(auc)\n",
    "\n",
    "        print(f\"\\nEpoch {epoch + 1}/{epochs}\")\n",
    "        print(f\"Train Loss: {train_loss:.4f}\")\n",
    "        print(f\"Val AUC: {auc:.4f} | F1: {f1:.4f} | Accuracy: {accuracy:.4f} | Precision: {precision:.4f}\")\n",
    "\n",
    "        # 保存最佳模型\n",
    "        if auc > best_auc:\n",
    "            best_auc = auc\n",
    "            torch.save(model.state_dict(), save_path)\n",
    "            print(f\"Saved new best model with AUC: {auc:.4f}\")\n",
    "\n",
    "        if early_stop(auc):\n",
    "            print(\"Early stopping triggered!\")\n",
    "            break\n",
    "\n",
    "    model.load_state_dict(torch.load(save_path))\n",
    "    return model, history\n",
    "\n",
    "# --------------------------\n",
    "# 辅助函数补充\n",
    "# --------------------------\n",
    "class EarlyStopper:\n",
    "    def __init__(self, patience=10, min_delta=0.005):\n",
    "        self.patience = patience\n",
    "        self.min_delta = min_delta\n",
    "        self.counter = 0\n",
    "        self.best_score = None\n",
    "\n",
    "    def __call__(self, score):\n",
    "        if self.best_score is None:\n",
    "            self.best_score = score\n",
    "        elif score < self.best_score + self.min_delta:\n",
    "            self.counter += 1\n",
    "            if self.counter >= self.patience:\n",
    "                return True\n",
    "        else:\n",
    "            self.best_score = score\n",
    "            self.counter = 0\n",
    "        return False\n",
    "\n",
    "def calc_pos_weight(y):\n",
    "    pos = np.sum(y)\n",
    "    neg = len(y) - pos\n",
    "    return torch.tensor([neg / pos]).to(device) if pos > 0 else torch.tensor([1.0]).to(device)\n",
    "\n",
    "def create_loaders(dataset):\n",
    "    y = dataset.tensors[2].numpy()\n",
    "    skf = StratifiedKFold(n_splits=5, shuffle=True, random_state=42)\n",
    "    train_idx, val_idx = next(skf.split(np.zeros(len(y)), y))\n",
    "    \n",
    "    # 标准化处理\n",
    "    X1_train = dataset.tensors[0][train_idx].numpy()\n",
    "    X2_train = dataset.tensors[1][train_idx].numpy()\n",
    "    \n",
    "    scaler1 = StandardScaler()\n",
    "    X1_train = scaler1.fit_transform(X1_train)\n",
    "    X1_val = scaler1.transform(dataset.tensors[0][val_idx].numpy())\n",
    "    \n",
    "    scaler2 = StandardScaler()\n",
    "    X2_train = scaler2.fit_transform(X2_train)\n",
    "    X2_val = scaler2.transform(dataset.tensors[1][val_idx].numpy())\n",
    "    \n",
    "    # 重建数据集\n",
    "    train_dataset = TensorDataset(\n",
    "        torch.FloatTensor(X1_train),\n",
    "        torch.FloatTensor(X2_train),\n",
    "        torch.FloatTensor(dataset.tensors[2][train_idx].numpy())\n",
    "    )\n",
    "    val_dataset = TensorDataset(\n",
    "        torch.FloatTensor(X1_val),\n",
    "        torch.FloatTensor(X2_val),\n",
    "        torch.FloatTensor(dataset.tensors[2][val_idx].numpy())\n",
    "    )\n",
    "    \n",
    "    # 类别平衡采样\n",
    "    sampler = WeightedRandomSampler(\n",
    "        weights=calc_sample_weights(y[train_idx]),\n",
    "        num_samples=len(train_dataset),\n",
    "        replacement=True\n",
    "    )\n",
    "    \n",
    "    train_loader = DataLoader(train_dataset, batch_size=64, sampler=sampler)\n",
    "    val_loader = DataLoader(val_dataset, batch_size=64)\n",
    "    return train_loader, val_loader\n",
    "\n",
    "def evaluate_model(model, X1, X2, y):\n",
    "    dataset = TensorDataset(\n",
    "        torch.FloatTensor(X1), \n",
    "        torch.FloatTensor(X2), \n",
    "        torch.FloatTensor(y)\n",
    "    )\n",
    "    loader = DataLoader(dataset, batch_size=256, shuffle=False)\n",
    "    \n",
    "    model.eval()\n",
    "    probs, truths = [], []\n",
    "    with torch.no_grad():\n",
    "        for X1_batch, X2_batch, y_batch in loader:\n",
    "            X1_batch, X2_batch = X1_batch.to(device), X2_batch.to(device)\n",
    "            batch_probs = torch.sigmoid(model(X1_batch, X2_batch)).cpu().numpy()\n",
    "            probs.extend(batch_probs)\n",
    "            truths.extend(y_batch.cpu().numpy())\n",
    "    \n",
    "    truths = np.array(truths)\n",
    "    probs = np.array(probs)\n",
    "    preds = np.round(probs)\n",
    "    \n",
    "    print(\"\\n模型评估结果:\")\n",
    "    print(f\"AUC: {roc_auc_score(truths, probs):.4f}\")\n",
    "    print(f\"Accuracy: {accuracy_score(truths, preds):.4f}\")\n",
    "    print(f\"Precision: {precision_score(truths, preds):.4f}\")\n",
    "    print(f\"Recall: {recall_score(truths, preds):.4f}\")\n",
    "    print(f\"F1: {f1_score(truths, preds):.4f}\")\n",
    "\n",
    "    # 绘制ROC曲线\n",
    "    fpr, tpr, _ = roc_curve(truths, probs)\n",
    "    plt.figure(figsize=(8, 6))\n",
    "    plt.plot(fpr, tpr, label=f'AUC = {roc_auc_score(truths, probs):.2f}')\n",
    "    plt.plot([0, 1], [0, 1], 'k--')\n",
    "    plt.xlabel('False Positive Rate')\n",
    "    plt.ylabel('True Positive Rate')\n",
    "    plt.title('ROC Curve')\n",
    "    plt.legend()\n",
    "    plt.show()\n",
    "\n",
    "# --------------------------\n",
    "# 主流程\n",
    "# --------------------------\n",
    "if __name__ == \"__main__\":\n",
    "    # 加载数据\n",
    "    df1 = pd.read_csv('./data/cleaned_microbiologyevents_plus.csv')\n",
    "    df2 = pd.read_csv('./data/cleaned_labs_first_day_lgbm.csv')\n",
    "    target = 'match_flag'\n",
    "\n",
    "    # 数据对齐\n",
    "    common_ids = np.intersect1d(df1['hadm_id'], df2['hadm_id'])\n",
    "    df1 = df1[df1['hadm_id'].isin(common_ids)].sort_values('hadm_id').reset_index(drop=True)\n",
    "    df2 = df2[df2['hadm_id'].isin(common_ids)].sort_values('hadm_id').reset_index(drop=True)\n",
    "\n",
    "    # 特征工程\n",
    "    X1 = df1.drop(columns=[target, 'hadm_id']).values.astype(np.float32)\n",
    "    X2 = df2.drop(columns=[target, 'hadm_id']).values.astype(np.float32)\n",
    "    y = df1[target].values.astype(np.float32)\n",
    "\n",
    "    # 创建数据集\n",
    "    dataset = TensorDataset(\n",
    "        torch.FloatTensor(X1), \n",
    "        torch.FloatTensor(X2), \n",
    "        torch.FloatTensor(y)\n",
    "    )\n",
    "    train_loader, val_loader = create_loaders(dataset)\n",
    "\n",
    "    # 初始化模型\n",
    "    model = MTLSTM(\n",
    "        input_dim1=X1.shape[1], \n",
    "        input_dim2=X2.shape[1]\n",
    "    ).to(device)\n",
    "    \n",
    "    optimizer = optim.AdamW(model.parameters(), lr=0.001, weight_decay=1e-4)\n",
    "    criterion = nn.BCEWithLogitsLoss(pos_weight=calc_pos_weight(y))\n",
    "    scheduler = optim.lr_scheduler.ReduceLROnPlateau(\n",
    "        optimizer, mode='max', factor=0.2, patience=5, verbose=True\n",
    "    )\n",
    "\n",
    "    # 训练模型\n",
    "    model, history = train_and_evaluate(\n",
    "        model, train_loader, val_loader,\n",
    "        optimizer, criterion, scheduler,\n",
    "        epochs=100, save_path='best_mt_lstm.pth'\n",
    "    )\n",
    "\n",
    "    # 最终评估\n",
    "    evaluate_model(model, X1, X2, y)\n"
   ]
  },
  {
   "cell_type": "code",
   "execution_count": 3,
   "id": "454baf93-3057-4860-9fec-6a61ab999419",
   "metadata": {},
   "outputs": [
    {
     "name": "stdout",
     "output_type": "stream",
     "text": [
      "\n",
      "Fold 1/5\n"
     ]
    },
    {
     "name": "stderr",
     "output_type": "stream",
     "text": [
      "Epoch 1: 100%|███████████████████████████████████████████████████████████████████████████████████████████████████████████████████████████████████████| 122/122 [00:05<00:00, 21.60it/s]\n"
     ]
    },
    {
     "name": "stdout",
     "output_type": "stream",
     "text": [
      "\n",
      "Epoch 1/100\n",
      "Train Loss: 0.4352\n",
      "Val AUC: 0.9174 | F1: 0.8627\n",
      "Saved new best model with AUC: 0.9174\n"
     ]
    },
    {
     "name": "stderr",
     "output_type": "stream",
     "text": [
      "Epoch 2: 100%|███████████████████████████████████████████████████████████████████████████████████████████████████████████████████████████████████████| 122/122 [00:03<00:00, 36.52it/s]\n"
     ]
    },
    {
     "name": "stdout",
     "output_type": "stream",
     "text": [
      "\n",
      "Epoch 2/100\n",
      "Train Loss: 0.3905\n",
      "Val AUC: 0.9267 | F1: 0.8791\n",
      "Saved new best model with AUC: 0.9267\n"
     ]
    },
    {
     "name": "stderr",
     "output_type": "stream",
     "text": [
      "Epoch 3: 100%|███████████████████████████████████████████████████████████████████████████████████████████████████████████████████████████████████████| 122/122 [00:03<00:00, 34.55it/s]\n"
     ]
    },
    {
     "name": "stdout",
     "output_type": "stream",
     "text": [
      "\n",
      "Epoch 3/100\n",
      "Train Loss: 0.3626\n",
      "Val AUC: 0.9412 | F1: 0.8730\n",
      "Saved new best model with AUC: 0.9412\n"
     ]
    },
    {
     "name": "stderr",
     "output_type": "stream",
     "text": [
      "Epoch 4: 100%|███████████████████████████████████████████████████████████████████████████████████████████████████████████████████████████████████████| 122/122 [00:04<00:00, 28.98it/s]\n"
     ]
    },
    {
     "name": "stdout",
     "output_type": "stream",
     "text": [
      "\n",
      "Epoch 4/100\n",
      "Train Loss: 0.3474\n",
      "Val AUC: 0.9350 | F1: 0.8654\n"
     ]
    },
    {
     "name": "stderr",
     "output_type": "stream",
     "text": [
      "Epoch 5: 100%|███████████████████████████████████████████████████████████████████████████████████████████████████████████████████████████████████████| 122/122 [00:03<00:00, 30.85it/s]\n"
     ]
    },
    {
     "name": "stdout",
     "output_type": "stream",
     "text": [
      "\n",
      "Epoch 5/100\n",
      "Train Loss: 0.3457\n",
      "Val AUC: 0.9381 | F1: 0.8800\n"
     ]
    },
    {
     "name": "stderr",
     "output_type": "stream",
     "text": [
      "Epoch 6: 100%|███████████████████████████████████████████████████████████████████████████████████████████████████████████████████████████████████████| 122/122 [00:03<00:00, 33.37it/s]\n"
     ]
    },
    {
     "name": "stdout",
     "output_type": "stream",
     "text": [
      "\n",
      "Epoch 6/100\n",
      "Train Loss: 0.3428\n",
      "Val AUC: 0.9364 | F1: 0.8755\n"
     ]
    },
    {
     "name": "stderr",
     "output_type": "stream",
     "text": [
      "Epoch 7: 100%|███████████████████████████████████████████████████████████████████████████████████████████████████████████████████████████████████████| 122/122 [00:03<00:00, 32.89it/s]\n"
     ]
    },
    {
     "name": "stdout",
     "output_type": "stream",
     "text": [
      "\n",
      "Epoch 7/100\n",
      "Train Loss: 0.3493\n",
      "Val AUC: 0.9395 | F1: 0.8730\n"
     ]
    },
    {
     "name": "stderr",
     "output_type": "stream",
     "text": [
      "Epoch 8: 100%|███████████████████████████████████████████████████████████████████████████████████████████████████████████████████████████████████████| 122/122 [00:03<00:00, 35.95it/s]\n"
     ]
    },
    {
     "name": "stdout",
     "output_type": "stream",
     "text": [
      "\n",
      "Epoch 8/100\n",
      "Train Loss: 0.3501\n",
      "Val AUC: 0.9354 | F1: 0.8838\n"
     ]
    },
    {
     "name": "stderr",
     "output_type": "stream",
     "text": [
      "Epoch 9: 100%|███████████████████████████████████████████████████████████████████████████████████████████████████████████████████████████████████████| 122/122 [00:03<00:00, 35.40it/s]\n"
     ]
    },
    {
     "name": "stdout",
     "output_type": "stream",
     "text": [
      "Epoch     9: reducing learning rate of group 0 to 2.0000e-04.\n",
      "\n",
      "Epoch 9/100\n",
      "Train Loss: 0.3271\n",
      "Val AUC: 0.9408 | F1: 0.8780\n"
     ]
    },
    {
     "name": "stderr",
     "output_type": "stream",
     "text": [
      "Epoch 10: 100%|██████████████████████████████████████████████████████████████████████████████████████████████████████████████████████████████████████| 122/122 [00:03<00:00, 33.31it/s]\n"
     ]
    },
    {
     "name": "stdout",
     "output_type": "stream",
     "text": [
      "\n",
      "Epoch 10/100\n",
      "Train Loss: 0.3019\n",
      "Val AUC: 0.9455 | F1: 0.8916\n",
      "Saved new best model with AUC: 0.9455\n"
     ]
    },
    {
     "name": "stderr",
     "output_type": "stream",
     "text": [
      "Epoch 11: 100%|██████████████████████████████████████████████████████████████████████████████████████████████████████████████████████████████████████| 122/122 [00:04<00:00, 25.45it/s]\n"
     ]
    },
    {
     "name": "stdout",
     "output_type": "stream",
     "text": [
      "\n",
      "Epoch 11/100\n",
      "Train Loss: 0.3081\n",
      "Val AUC: 0.9439 | F1: 0.8845\n"
     ]
    },
    {
     "name": "stderr",
     "output_type": "stream",
     "text": [
      "Epoch 12: 100%|██████████████████████████████████████████████████████████████████████████████████████████████████████████████████████████████████████| 122/122 [00:04<00:00, 24.86it/s]\n"
     ]
    },
    {
     "name": "stdout",
     "output_type": "stream",
     "text": [
      "\n",
      "Epoch 12/100\n",
      "Train Loss: 0.3034\n",
      "Val AUC: 0.9461 | F1: 0.8885\n",
      "Saved new best model with AUC: 0.9461\n"
     ]
    },
    {
     "name": "stderr",
     "output_type": "stream",
     "text": [
      "Epoch 13: 100%|██████████████████████████████████████████████████████████████████████████████████████████████████████████████████████████████████████| 122/122 [00:03<00:00, 31.02it/s]\n"
     ]
    },
    {
     "name": "stdout",
     "output_type": "stream",
     "text": [
      "\n",
      "Epoch 13/100\n",
      "Train Loss: 0.3066\n",
      "Val AUC: 0.9481 | F1: 0.8930\n",
      "Saved new best model with AUC: 0.9481\n"
     ]
    },
    {
     "name": "stderr",
     "output_type": "stream",
     "text": [
      "Epoch 14: 100%|██████████████████████████████████████████████████████████████████████████████████████████████████████████████████████████████████████| 122/122 [00:03<00:00, 35.19it/s]\n"
     ]
    },
    {
     "name": "stdout",
     "output_type": "stream",
     "text": [
      "\n",
      "Epoch 14/100\n",
      "Train Loss: 0.2907\n",
      "Val AUC: 0.9475 | F1: 0.8909\n"
     ]
    },
    {
     "name": "stderr",
     "output_type": "stream",
     "text": [
      "Epoch 15: 100%|██████████████████████████████████████████████████████████████████████████████████████████████████████████████████████████████████████| 122/122 [00:03<00:00, 36.79it/s]\n"
     ]
    },
    {
     "name": "stdout",
     "output_type": "stream",
     "text": [
      "\n",
      "Epoch 15/100\n",
      "Train Loss: 0.3110\n",
      "Val AUC: 0.9475 | F1: 0.8870\n"
     ]
    },
    {
     "name": "stderr",
     "output_type": "stream",
     "text": [
      "Epoch 16: 100%|██████████████████████████████████████████████████████████████████████████████████████████████████████████████████████████████████████| 122/122 [00:03<00:00, 39.09it/s]\n"
     ]
    },
    {
     "name": "stdout",
     "output_type": "stream",
     "text": [
      "\n",
      "Epoch 16/100\n",
      "Train Loss: 0.3185\n",
      "Val AUC: 0.9470 | F1: 0.8817\n"
     ]
    },
    {
     "name": "stderr",
     "output_type": "stream",
     "text": [
      "Epoch 17: 100%|██████████████████████████████████████████████████████████████████████████████████████████████████████████████████████████████████████| 122/122 [00:03<00:00, 38.64it/s]\n"
     ]
    },
    {
     "name": "stdout",
     "output_type": "stream",
     "text": [
      "\n",
      "Epoch 17/100\n",
      "Train Loss: 0.2897\n",
      "Val AUC: 0.9482 | F1: 0.8855\n",
      "Saved new best model with AUC: 0.9482\n"
     ]
    },
    {
     "name": "stderr",
     "output_type": "stream",
     "text": [
      "Epoch 18: 100%|██████████████████████████████████████████████████████████████████████████████████████████████████████████████████████████████████████| 122/122 [00:03<00:00, 37.73it/s]\n"
     ]
    },
    {
     "name": "stdout",
     "output_type": "stream",
     "text": [
      "\n",
      "Epoch 18/100\n",
      "Train Loss: 0.3054\n",
      "Val AUC: 0.9473 | F1: 0.8847\n"
     ]
    },
    {
     "name": "stderr",
     "output_type": "stream",
     "text": [
      "Epoch 19: 100%|██████████████████████████████████████████████████████████████████████████████████████████████████████████████████████████████████████| 122/122 [00:03<00:00, 36.37it/s]\n"
     ]
    },
    {
     "name": "stdout",
     "output_type": "stream",
     "text": [
      "\n",
      "Epoch 19/100\n",
      "Train Loss: 0.2964\n",
      "Val AUC: 0.9479 | F1: 0.8913\n"
     ]
    },
    {
     "name": "stderr",
     "output_type": "stream",
     "text": [
      "Epoch 20: 100%|██████████████████████████████████████████████████████████████████████████████████████████████████████████████████████████████████████| 122/122 [00:03<00:00, 33.39it/s]\n"
     ]
    },
    {
     "name": "stdout",
     "output_type": "stream",
     "text": [
      "\n",
      "Epoch 20/100\n",
      "Train Loss: 0.2916\n",
      "Val AUC: 0.9482 | F1: 0.8931\n"
     ]
    },
    {
     "name": "stderr",
     "output_type": "stream",
     "text": [
      "Epoch 21: 100%|██████████████████████████████████████████████████████████████████████████████████████████████████████████████████████████████████████| 122/122 [00:03<00:00, 35.97it/s]\n"
     ]
    },
    {
     "name": "stdout",
     "output_type": "stream",
     "text": [
      "\n",
      "Epoch 21/100\n",
      "Train Loss: 0.2969\n",
      "Val AUC: 0.9481 | F1: 0.8898\n"
     ]
    },
    {
     "name": "stderr",
     "output_type": "stream",
     "text": [
      "Epoch 22: 100%|██████████████████████████████████████████████████████████████████████████████████████████████████████████████████████████████████████| 122/122 [00:03<00:00, 37.65it/s]\n"
     ]
    },
    {
     "name": "stdout",
     "output_type": "stream",
     "text": [
      "\n",
      "Epoch 22/100\n",
      "Train Loss: 0.2925\n",
      "Val AUC: 0.9478 | F1: 0.8897\n"
     ]
    },
    {
     "name": "stderr",
     "output_type": "stream",
     "text": [
      "Epoch 23: 100%|██████████████████████████████████████████████████████████████████████████████████████████████████████████████████████████████████████| 122/122 [00:03<00:00, 39.10it/s]\n"
     ]
    },
    {
     "name": "stdout",
     "output_type": "stream",
     "text": [
      "\n",
      "Epoch 23/100\n",
      "Train Loss: 0.3021\n",
      "Val AUC: 0.9491 | F1: 0.8877\n",
      "Saved new best model with AUC: 0.9491\n"
     ]
    },
    {
     "name": "stderr",
     "output_type": "stream",
     "text": [
      "Epoch 24: 100%|██████████████████████████████████████████████████████████████████████████████████████████████████████████████████████████████████████| 122/122 [00:03<00:00, 38.35it/s]\n"
     ]
    },
    {
     "name": "stdout",
     "output_type": "stream",
     "text": [
      "\n",
      "Epoch 24/100\n",
      "Train Loss: 0.2923\n",
      "Val AUC: 0.9491 | F1: 0.8910\n",
      "Saved new best model with AUC: 0.9491\n"
     ]
    },
    {
     "name": "stderr",
     "output_type": "stream",
     "text": [
      "Epoch 25: 100%|██████████████████████████████████████████████████████████████████████████████████████████████████████████████████████████████████████| 122/122 [00:03<00:00, 33.71it/s]\n"
     ]
    },
    {
     "name": "stdout",
     "output_type": "stream",
     "text": [
      "\n",
      "Epoch 25/100\n",
      "Train Loss: 0.2853\n",
      "Val AUC: 0.9491 | F1: 0.8899\n",
      "Early stopping triggered!\n",
      "\n",
      "Fold 2/5\n"
     ]
    },
    {
     "name": "stderr",
     "output_type": "stream",
     "text": [
      "Epoch 1: 100%|███████████████████████████████████████████████████████████████████████████████████████████████████████████████████████████████████████| 122/122 [00:03<00:00, 37.25it/s]\n"
     ]
    },
    {
     "name": "stdout",
     "output_type": "stream",
     "text": [
      "\n",
      "Epoch 1/100\n",
      "Train Loss: 0.4356\n",
      "Val AUC: 0.9246 | F1: 0.8445\n",
      "Saved new best model with AUC: 0.9246\n"
     ]
    },
    {
     "name": "stderr",
     "output_type": "stream",
     "text": [
      "Epoch 2: 100%|███████████████████████████████████████████████████████████████████████████████████████████████████████████████████████████████████████| 122/122 [00:03<00:00, 38.35it/s]\n"
     ]
    },
    {
     "name": "stdout",
     "output_type": "stream",
     "text": [
      "\n",
      "Epoch 2/100\n",
      "Train Loss: 0.4001\n",
      "Val AUC: 0.9325 | F1: 0.8540\n",
      "Saved new best model with AUC: 0.9325\n"
     ]
    },
    {
     "name": "stderr",
     "output_type": "stream",
     "text": [
      "Epoch 3: 100%|███████████████████████████████████████████████████████████████████████████████████████████████████████████████████████████████████████| 122/122 [00:03<00:00, 37.74it/s]\n"
     ]
    },
    {
     "name": "stdout",
     "output_type": "stream",
     "text": [
      "\n",
      "Epoch 3/100\n",
      "Train Loss: 0.3687\n",
      "Val AUC: 0.9407 | F1: 0.8723\n",
      "Saved new best model with AUC: 0.9407\n"
     ]
    },
    {
     "name": "stderr",
     "output_type": "stream",
     "text": [
      "Epoch 4: 100%|███████████████████████████████████████████████████████████████████████████████████████████████████████████████████████████████████████| 122/122 [00:03<00:00, 39.89it/s]\n"
     ]
    },
    {
     "name": "stdout",
     "output_type": "stream",
     "text": [
      "\n",
      "Epoch 4/100\n",
      "Train Loss: 0.3374\n",
      "Val AUC: 0.9404 | F1: 0.8722\n"
     ]
    },
    {
     "name": "stderr",
     "output_type": "stream",
     "text": [
      "Epoch 5: 100%|███████████████████████████████████████████████████████████████████████████████████████████████████████████████████████████████████████| 122/122 [00:03<00:00, 40.60it/s]\n"
     ]
    },
    {
     "name": "stdout",
     "output_type": "stream",
     "text": [
      "\n",
      "Epoch 5/100\n",
      "Train Loss: 0.3517\n",
      "Val AUC: 0.9418 | F1: 0.8842\n",
      "Saved new best model with AUC: 0.9418\n"
     ]
    },
    {
     "name": "stderr",
     "output_type": "stream",
     "text": [
      "Epoch 6: 100%|███████████████████████████████████████████████████████████████████████████████████████████████████████████████████████████████████████| 122/122 [00:02<00:00, 40.98it/s]\n"
     ]
    },
    {
     "name": "stdout",
     "output_type": "stream",
     "text": [
      "\n",
      "Epoch 6/100\n",
      "Train Loss: 0.3357\n",
      "Val AUC: 0.9345 | F1: 0.8719\n"
     ]
    },
    {
     "name": "stderr",
     "output_type": "stream",
     "text": [
      "Epoch 7: 100%|███████████████████████████████████████████████████████████████████████████████████████████████████████████████████████████████████████| 122/122 [00:03<00:00, 39.86it/s]\n"
     ]
    },
    {
     "name": "stdout",
     "output_type": "stream",
     "text": [
      "\n",
      "Epoch 7/100\n",
      "Train Loss: 0.3204\n",
      "Val AUC: 0.9416 | F1: 0.8747\n"
     ]
    },
    {
     "name": "stderr",
     "output_type": "stream",
     "text": [
      "Epoch 8: 100%|███████████████████████████████████████████████████████████████████████████████████████████████████████████████████████████████████████| 122/122 [00:03<00:00, 38.65it/s]\n"
     ]
    },
    {
     "name": "stdout",
     "output_type": "stream",
     "text": [
      "\n",
      "Epoch 8/100\n",
      "Train Loss: 0.3327\n",
      "Val AUC: 0.9446 | F1: 0.8838\n",
      "Saved new best model with AUC: 0.9446\n"
     ]
    },
    {
     "name": "stderr",
     "output_type": "stream",
     "text": [
      "Epoch 9: 100%|███████████████████████████████████████████████████████████████████████████████████████████████████████████████████████████████████████| 122/122 [00:03<00:00, 38.13it/s]\n"
     ]
    },
    {
     "name": "stdout",
     "output_type": "stream",
     "text": [
      "\n",
      "Epoch 9/100\n",
      "Train Loss: 0.3123\n",
      "Val AUC: 0.9436 | F1: 0.8776\n"
     ]
    },
    {
     "name": "stderr",
     "output_type": "stream",
     "text": [
      "Epoch 10: 100%|██████████████████████████████████████████████████████████████████████████████████████████████████████████████████████████████████████| 122/122 [00:03<00:00, 33.41it/s]\n"
     ]
    },
    {
     "name": "stdout",
     "output_type": "stream",
     "text": [
      "\n",
      "Epoch 10/100\n",
      "Train Loss: 0.3249\n",
      "Val AUC: 0.9468 | F1: 0.8880\n",
      "Saved new best model with AUC: 0.9468\n"
     ]
    },
    {
     "name": "stderr",
     "output_type": "stream",
     "text": [
      "Epoch 11: 100%|██████████████████████████████████████████████████████████████████████████████████████████████████████████████████████████████████████| 122/122 [00:03<00:00, 37.00it/s]\n"
     ]
    },
    {
     "name": "stdout",
     "output_type": "stream",
     "text": [
      "\n",
      "Epoch 11/100\n",
      "Train Loss: 0.3109\n",
      "Val AUC: 0.9455 | F1: 0.8776\n"
     ]
    },
    {
     "name": "stderr",
     "output_type": "stream",
     "text": [
      "Epoch 12: 100%|██████████████████████████████████████████████████████████████████████████████████████████████████████████████████████████████████████| 122/122 [00:03<00:00, 37.72it/s]\n"
     ]
    },
    {
     "name": "stdout",
     "output_type": "stream",
     "text": [
      "\n",
      "Epoch 12/100\n",
      "Train Loss: 0.3259\n",
      "Val AUC: 0.9259 | F1: 0.8442\n"
     ]
    },
    {
     "name": "stderr",
     "output_type": "stream",
     "text": [
      "Epoch 13: 100%|██████████████████████████████████████████████████████████████████████████████████████████████████████████████████████████████████████| 122/122 [00:03<00:00, 38.19it/s]\n"
     ]
    },
    {
     "name": "stdout",
     "output_type": "stream",
     "text": [
      "\n",
      "Epoch 13/100\n",
      "Train Loss: 0.3301\n",
      "Val AUC: 0.9474 | F1: 0.8879\n",
      "Saved new best model with AUC: 0.9474\n"
     ]
    },
    {
     "name": "stderr",
     "output_type": "stream",
     "text": [
      "Epoch 14: 100%|██████████████████████████████████████████████████████████████████████████████████████████████████████████████████████████████████████| 122/122 [00:03<00:00, 36.16it/s]\n"
     ]
    },
    {
     "name": "stdout",
     "output_type": "stream",
     "text": [
      "\n",
      "Epoch 14/100\n",
      "Train Loss: 0.3127\n",
      "Val AUC: 0.9443 | F1: 0.8851\n"
     ]
    },
    {
     "name": "stderr",
     "output_type": "stream",
     "text": [
      "Epoch 15: 100%|██████████████████████████████████████████████████████████████████████████████████████████████████████████████████████████████████████| 122/122 [00:03<00:00, 35.10it/s]\n"
     ]
    },
    {
     "name": "stdout",
     "output_type": "stream",
     "text": [
      "\n",
      "Epoch 15/100\n",
      "Train Loss: 0.3209\n",
      "Val AUC: 0.9472 | F1: 0.8771\n"
     ]
    },
    {
     "name": "stderr",
     "output_type": "stream",
     "text": [
      "Epoch 16: 100%|██████████████████████████████████████████████████████████████████████████████████████████████████████████████████████████████████████| 122/122 [00:03<00:00, 36.09it/s]\n"
     ]
    },
    {
     "name": "stdout",
     "output_type": "stream",
     "text": [
      "\n",
      "Epoch 16/100\n",
      "Train Loss: 0.3224\n",
      "Val AUC: 0.9447 | F1: 0.8816\n"
     ]
    },
    {
     "name": "stderr",
     "output_type": "stream",
     "text": [
      "Epoch 17: 100%|██████████████████████████████████████████████████████████████████████████████████████████████████████████████████████████████████████| 122/122 [00:03<00:00, 38.49it/s]\n"
     ]
    },
    {
     "name": "stdout",
     "output_type": "stream",
     "text": [
      "\n",
      "Epoch 17/100\n",
      "Train Loss: 0.3140\n",
      "Val AUC: 0.9448 | F1: 0.8896\n"
     ]
    },
    {
     "name": "stderr",
     "output_type": "stream",
     "text": [
      "Epoch 18: 100%|██████████████████████████████████████████████████████████████████████████████████████████████████████████████████████████████████████| 122/122 [00:03<00:00, 35.16it/s]\n"
     ]
    },
    {
     "name": "stdout",
     "output_type": "stream",
     "text": [
      "\n",
      "Epoch 18/100\n",
      "Train Loss: 0.3111\n",
      "Val AUC: 0.9467 | F1: 0.8844\n"
     ]
    },
    {
     "name": "stderr",
     "output_type": "stream",
     "text": [
      "Epoch 19: 100%|██████████████████████████████████████████████████████████████████████████████████████████████████████████████████████████████████████| 122/122 [00:03<00:00, 36.56it/s]\n"
     ]
    },
    {
     "name": "stdout",
     "output_type": "stream",
     "text": [
      "Epoch    19: reducing learning rate of group 0 to 2.0000e-04.\n",
      "\n",
      "Epoch 19/100\n",
      "Train Loss: 0.2982\n",
      "Val AUC: 0.9334 | F1: 0.8585\n"
     ]
    },
    {
     "name": "stderr",
     "output_type": "stream",
     "text": [
      "Epoch 20: 100%|██████████████████████████████████████████████████████████████████████████████████████████████████████████████████████████████████████| 122/122 [00:03<00:00, 37.35it/s]\n"
     ]
    },
    {
     "name": "stdout",
     "output_type": "stream",
     "text": [
      "\n",
      "Epoch 20/100\n",
      "Train Loss: 0.2869\n",
      "Val AUC: 0.9480 | F1: 0.8862\n",
      "Saved new best model with AUC: 0.9480\n"
     ]
    },
    {
     "name": "stderr",
     "output_type": "stream",
     "text": [
      "Epoch 21: 100%|██████████████████████████████████████████████████████████████████████████████████████████████████████████████████████████████████████| 122/122 [00:03<00:00, 37.06it/s]\n"
     ]
    },
    {
     "name": "stdout",
     "output_type": "stream",
     "text": [
      "\n",
      "Epoch 21/100\n",
      "Train Loss: 0.2838\n",
      "Val AUC: 0.9479 | F1: 0.8856\n"
     ]
    },
    {
     "name": "stderr",
     "output_type": "stream",
     "text": [
      "Epoch 22: 100%|██████████████████████████████████████████████████████████████████████████████████████████████████████████████████████████████████████| 122/122 [00:03<00:00, 37.57it/s]\n"
     ]
    },
    {
     "name": "stdout",
     "output_type": "stream",
     "text": [
      "\n",
      "Epoch 22/100\n",
      "Train Loss: 0.2767\n",
      "Val AUC: 0.9476 | F1: 0.8846\n",
      "Early stopping triggered!\n",
      "\n",
      "Fold 3/5\n"
     ]
    },
    {
     "name": "stderr",
     "output_type": "stream",
     "text": [
      "Epoch 1: 100%|███████████████████████████████████████████████████████████████████████████████████████████████████████████████████████████████████████| 122/122 [00:03<00:00, 37.98it/s]\n"
     ]
    },
    {
     "name": "stdout",
     "output_type": "stream",
     "text": [
      "\n",
      "Epoch 1/100\n",
      "Train Loss: 0.4587\n",
      "Val AUC: 0.9178 | F1: 0.8614\n",
      "Saved new best model with AUC: 0.9178\n"
     ]
    },
    {
     "name": "stderr",
     "output_type": "stream",
     "text": [
      "Epoch 2: 100%|███████████████████████████████████████████████████████████████████████████████████████████████████████████████████████████████████████| 122/122 [00:03<00:00, 39.33it/s]\n"
     ]
    },
    {
     "name": "stdout",
     "output_type": "stream",
     "text": [
      "\n",
      "Epoch 2/100\n",
      "Train Loss: 0.3914\n",
      "Val AUC: 0.9318 | F1: 0.8756\n",
      "Saved new best model with AUC: 0.9318\n"
     ]
    },
    {
     "name": "stderr",
     "output_type": "stream",
     "text": [
      "Epoch 3: 100%|███████████████████████████████████████████████████████████████████████████████████████████████████████████████████████████████████████| 122/122 [00:03<00:00, 39.14it/s]\n"
     ]
    },
    {
     "name": "stdout",
     "output_type": "stream",
     "text": [
      "\n",
      "Epoch 3/100\n",
      "Train Loss: 0.3716\n",
      "Val AUC: 0.9422 | F1: 0.8865\n",
      "Saved new best model with AUC: 0.9422\n"
     ]
    },
    {
     "name": "stderr",
     "output_type": "stream",
     "text": [
      "Epoch 4: 100%|███████████████████████████████████████████████████████████████████████████████████████████████████████████████████████████████████████| 122/122 [00:03<00:00, 40.34it/s]\n"
     ]
    },
    {
     "name": "stdout",
     "output_type": "stream",
     "text": [
      "\n",
      "Epoch 4/100\n",
      "Train Loss: 0.3373\n",
      "Val AUC: 0.9370 | F1: 0.8510\n"
     ]
    },
    {
     "name": "stderr",
     "output_type": "stream",
     "text": [
      "Epoch 5: 100%|███████████████████████████████████████████████████████████████████████████████████████████████████████████████████████████████████████| 122/122 [00:03<00:00, 39.88it/s]\n"
     ]
    },
    {
     "name": "stdout",
     "output_type": "stream",
     "text": [
      "\n",
      "Epoch 5/100\n",
      "Train Loss: 0.3496\n",
      "Val AUC: 0.9333 | F1: 0.8692\n"
     ]
    },
    {
     "name": "stderr",
     "output_type": "stream",
     "text": [
      "Epoch 6: 100%|███████████████████████████████████████████████████████████████████████████████████████████████████████████████████████████████████████| 122/122 [00:03<00:00, 39.45it/s]\n"
     ]
    },
    {
     "name": "stdout",
     "output_type": "stream",
     "text": [
      "\n",
      "Epoch 6/100\n",
      "Train Loss: 0.3611\n",
      "Val AUC: 0.9443 | F1: 0.8716\n",
      "Saved new best model with AUC: 0.9443\n"
     ]
    },
    {
     "name": "stderr",
     "output_type": "stream",
     "text": [
      "Epoch 7: 100%|███████████████████████████████████████████████████████████████████████████████████████████████████████████████████████████████████████| 122/122 [00:03<00:00, 40.24it/s]\n"
     ]
    },
    {
     "name": "stdout",
     "output_type": "stream",
     "text": [
      "\n",
      "Epoch 7/100\n",
      "Train Loss: 0.3476\n",
      "Val AUC: 0.9411 | F1: 0.8771\n"
     ]
    },
    {
     "name": "stderr",
     "output_type": "stream",
     "text": [
      "Epoch 8: 100%|███████████████████████████████████████████████████████████████████████████████████████████████████████████████████████████████████████| 122/122 [00:03<00:00, 37.72it/s]\n"
     ]
    },
    {
     "name": "stdout",
     "output_type": "stream",
     "text": [
      "\n",
      "Epoch 8/100\n",
      "Train Loss: 0.3505\n",
      "Val AUC: 0.9409 | F1: 0.8839\n"
     ]
    },
    {
     "name": "stderr",
     "output_type": "stream",
     "text": [
      "Epoch 9: 100%|███████████████████████████████████████████████████████████████████████████████████████████████████████████████████████████████████████| 122/122 [00:03<00:00, 37.21it/s]\n"
     ]
    },
    {
     "name": "stdout",
     "output_type": "stream",
     "text": [
      "\n",
      "Epoch 9/100\n",
      "Train Loss: 0.3353\n",
      "Val AUC: 0.9458 | F1: 0.8843\n",
      "Saved new best model with AUC: 0.9458\n"
     ]
    },
    {
     "name": "stderr",
     "output_type": "stream",
     "text": [
      "Epoch 10: 100%|██████████████████████████████████████████████████████████████████████████████████████████████████████████████████████████████████████| 122/122 [00:03<00:00, 39.65it/s]\n"
     ]
    },
    {
     "name": "stdout",
     "output_type": "stream",
     "text": [
      "\n",
      "Epoch 10/100\n",
      "Train Loss: 0.3248\n",
      "Val AUC: 0.9461 | F1: 0.8863\n",
      "Saved new best model with AUC: 0.9461\n"
     ]
    },
    {
     "name": "stderr",
     "output_type": "stream",
     "text": [
      "Epoch 11: 100%|██████████████████████████████████████████████████████████████████████████████████████████████████████████████████████████████████████| 122/122 [00:02<00:00, 41.37it/s]\n"
     ]
    },
    {
     "name": "stdout",
     "output_type": "stream",
     "text": [
      "\n",
      "Epoch 11/100\n",
      "Train Loss: 0.3000\n",
      "Val AUC: 0.9471 | F1: 0.8757\n",
      "Saved new best model with AUC: 0.9471\n"
     ]
    },
    {
     "name": "stderr",
     "output_type": "stream",
     "text": [
      "Epoch 12: 100%|██████████████████████████████████████████████████████████████████████████████████████████████████████████████████████████████████████| 122/122 [00:03<00:00, 38.62it/s]\n"
     ]
    },
    {
     "name": "stdout",
     "output_type": "stream",
     "text": [
      "\n",
      "Epoch 12/100\n",
      "Train Loss: 0.3115\n",
      "Val AUC: 0.9460 | F1: 0.8975\n"
     ]
    },
    {
     "name": "stderr",
     "output_type": "stream",
     "text": [
      "Epoch 13: 100%|██████████████████████████████████████████████████████████████████████████████████████████████████████████████████████████████████████| 122/122 [00:02<00:00, 41.06it/s]\n"
     ]
    },
    {
     "name": "stdout",
     "output_type": "stream",
     "text": [
      "\n",
      "Epoch 13/100\n",
      "Train Loss: 0.3328\n",
      "Val AUC: 0.9434 | F1: 0.8915\n"
     ]
    },
    {
     "name": "stderr",
     "output_type": "stream",
     "text": [
      "Epoch 14: 100%|██████████████████████████████████████████████████████████████████████████████████████████████████████████████████████████████████████| 122/122 [00:02<00:00, 40.70it/s]\n"
     ]
    },
    {
     "name": "stdout",
     "output_type": "stream",
     "text": [
      "\n",
      "Epoch 14/100\n",
      "Train Loss: 0.3051\n",
      "Val AUC: 0.9493 | F1: 0.8848\n",
      "Saved new best model with AUC: 0.9493\n"
     ]
    },
    {
     "name": "stderr",
     "output_type": "stream",
     "text": [
      "Epoch 15: 100%|██████████████████████████████████████████████████████████████████████████████████████████████████████████████████████████████████████| 122/122 [00:03<00:00, 40.39it/s]\n"
     ]
    },
    {
     "name": "stdout",
     "output_type": "stream",
     "text": [
      "\n",
      "Epoch 15/100\n",
      "Train Loss: 0.3127\n",
      "Val AUC: 0.9489 | F1: 0.8726\n"
     ]
    },
    {
     "name": "stderr",
     "output_type": "stream",
     "text": [
      "Epoch 16: 100%|██████████████████████████████████████████████████████████████████████████████████████████████████████████████████████████████████████| 122/122 [00:02<00:00, 41.35it/s]\n"
     ]
    },
    {
     "name": "stdout",
     "output_type": "stream",
     "text": [
      "\n",
      "Epoch 16/100\n",
      "Train Loss: 0.3005\n",
      "Val AUC: 0.9476 | F1: 0.8886\n"
     ]
    },
    {
     "name": "stderr",
     "output_type": "stream",
     "text": [
      "Epoch 17: 100%|██████████████████████████████████████████████████████████████████████████████████████████████████████████████████████████████████████| 122/122 [00:03<00:00, 40.25it/s]\n"
     ]
    },
    {
     "name": "stdout",
     "output_type": "stream",
     "text": [
      "\n",
      "Epoch 17/100\n",
      "Train Loss: 0.3105\n",
      "Val AUC: 0.9471 | F1: 0.8919\n"
     ]
    },
    {
     "name": "stderr",
     "output_type": "stream",
     "text": [
      "Epoch 18: 100%|██████████████████████████████████████████████████████████████████████████████████████████████████████████████████████████████████████| 122/122 [00:02<00:00, 41.15it/s]\n"
     ]
    },
    {
     "name": "stdout",
     "output_type": "stream",
     "text": [
      "\n",
      "Epoch 18/100\n",
      "Train Loss: 0.3050\n",
      "Val AUC: 0.9462 | F1: 0.8896\n"
     ]
    },
    {
     "name": "stderr",
     "output_type": "stream",
     "text": [
      "Epoch 19: 100%|██████████████████████████████████████████████████████████████████████████████████████████████████████████████████████████████████████| 122/122 [00:02<00:00, 40.95it/s]\n"
     ]
    },
    {
     "name": "stdout",
     "output_type": "stream",
     "text": [
      "\n",
      "Epoch 19/100\n",
      "Train Loss: 0.3053\n",
      "Val AUC: 0.9491 | F1: 0.8919\n"
     ]
    },
    {
     "name": "stderr",
     "output_type": "stream",
     "text": [
      "Epoch 20: 100%|██████████████████████████████████████████████████████████████████████████████████████████████████████████████████████████████████████| 122/122 [00:03<00:00, 40.62it/s]\n"
     ]
    },
    {
     "name": "stdout",
     "output_type": "stream",
     "text": [
      "Epoch    20: reducing learning rate of group 0 to 2.0000e-04.\n",
      "\n",
      "Epoch 20/100\n",
      "Train Loss: 0.2938\n",
      "Val AUC: 0.9470 | F1: 0.8864\n"
     ]
    },
    {
     "name": "stderr",
     "output_type": "stream",
     "text": [
      "Epoch 21: 100%|██████████████████████████████████████████████████████████████████████████████████████████████████████████████████████████████████████| 122/122 [00:03<00:00, 40.63it/s]\n"
     ]
    },
    {
     "name": "stdout",
     "output_type": "stream",
     "text": [
      "\n",
      "Epoch 21/100\n",
      "Train Loss: 0.3104\n",
      "Val AUC: 0.9494 | F1: 0.8915\n",
      "Saved new best model with AUC: 0.9494\n"
     ]
    },
    {
     "name": "stderr",
     "output_type": "stream",
     "text": [
      "Epoch 22: 100%|██████████████████████████████████████████████████████████████████████████████████████████████████████████████████████████████████████| 122/122 [00:02<00:00, 40.76it/s]\n"
     ]
    },
    {
     "name": "stdout",
     "output_type": "stream",
     "text": [
      "\n",
      "Epoch 22/100\n",
      "Train Loss: 0.2596\n",
      "Val AUC: 0.9498 | F1: 0.8871\n",
      "Saved new best model with AUC: 0.9498\n"
     ]
    },
    {
     "name": "stderr",
     "output_type": "stream",
     "text": [
      "Epoch 23: 100%|██████████████████████████████████████████████████████████████████████████████████████████████████████████████████████████████████████| 122/122 [00:03<00:00, 39.68it/s]\n"
     ]
    },
    {
     "name": "stdout",
     "output_type": "stream",
     "text": [
      "\n",
      "Epoch 23/100\n",
      "Train Loss: 0.2777\n",
      "Val AUC: 0.9490 | F1: 0.8823\n"
     ]
    },
    {
     "name": "stderr",
     "output_type": "stream",
     "text": [
      "Epoch 24: 100%|██████████████████████████████████████████████████████████████████████████████████████████████████████████████████████████████████████| 122/122 [00:03<00:00, 39.48it/s]\n"
     ]
    },
    {
     "name": "stdout",
     "output_type": "stream",
     "text": [
      "\n",
      "Epoch 24/100\n",
      "Train Loss: 0.2788\n",
      "Val AUC: 0.9484 | F1: 0.8895\n"
     ]
    },
    {
     "name": "stderr",
     "output_type": "stream",
     "text": [
      "Epoch 25: 100%|██████████████████████████████████████████████████████████████████████████████████████████████████████████████████████████████████████| 122/122 [00:03<00:00, 39.58it/s]\n"
     ]
    },
    {
     "name": "stdout",
     "output_type": "stream",
     "text": [
      "\n",
      "Epoch 25/100\n",
      "Train Loss: 0.2693\n",
      "Val AUC: 0.9487 | F1: 0.8852\n"
     ]
    },
    {
     "name": "stderr",
     "output_type": "stream",
     "text": [
      "Epoch 26: 100%|██████████████████████████████████████████████████████████████████████████████████████████████████████████████████████████████████████| 122/122 [00:03<00:00, 40.66it/s]\n"
     ]
    },
    {
     "name": "stdout",
     "output_type": "stream",
     "text": [
      "\n",
      "Epoch 26/100\n",
      "Train Loss: 0.2753\n",
      "Val AUC: 0.9481 | F1: 0.8872\n",
      "Early stopping triggered!\n",
      "\n",
      "Fold 4/5\n"
     ]
    },
    {
     "name": "stderr",
     "output_type": "stream",
     "text": [
      "Epoch 1: 100%|███████████████████████████████████████████████████████████████████████████████████████████████████████████████████████████████████████| 122/122 [00:02<00:00, 40.95it/s]\n"
     ]
    },
    {
     "name": "stdout",
     "output_type": "stream",
     "text": [
      "\n",
      "Epoch 1/100\n",
      "Train Loss: 0.4352\n",
      "Val AUC: 0.9277 | F1: 0.8549\n",
      "Saved new best model with AUC: 0.9277\n"
     ]
    },
    {
     "name": "stderr",
     "output_type": "stream",
     "text": [
      "Epoch 2: 100%|███████████████████████████████████████████████████████████████████████████████████████████████████████████████████████████████████████| 122/122 [00:02<00:00, 41.04it/s]\n"
     ]
    },
    {
     "name": "stdout",
     "output_type": "stream",
     "text": [
      "\n",
      "Epoch 2/100\n",
      "Train Loss: 0.3914\n",
      "Val AUC: 0.9333 | F1: 0.8754\n",
      "Saved new best model with AUC: 0.9333\n"
     ]
    },
    {
     "name": "stderr",
     "output_type": "stream",
     "text": [
      "Epoch 3: 100%|███████████████████████████████████████████████████████████████████████████████████████████████████████████████████████████████████████| 122/122 [00:02<00:00, 40.93it/s]\n"
     ]
    },
    {
     "name": "stdout",
     "output_type": "stream",
     "text": [
      "\n",
      "Epoch 3/100\n",
      "Train Loss: 0.3651\n",
      "Val AUC: 0.9373 | F1: 0.8795\n",
      "Saved new best model with AUC: 0.9373\n"
     ]
    },
    {
     "name": "stderr",
     "output_type": "stream",
     "text": [
      "Epoch 4: 100%|███████████████████████████████████████████████████████████████████████████████████████████████████████████████████████████████████████| 122/122 [00:03<00:00, 39.71it/s]\n"
     ]
    },
    {
     "name": "stdout",
     "output_type": "stream",
     "text": [
      "\n",
      "Epoch 4/100\n",
      "Train Loss: 0.3561\n",
      "Val AUC: 0.9435 | F1: 0.8807\n",
      "Saved new best model with AUC: 0.9435\n"
     ]
    },
    {
     "name": "stderr",
     "output_type": "stream",
     "text": [
      "Epoch 5: 100%|███████████████████████████████████████████████████████████████████████████████████████████████████████████████████████████████████████| 122/122 [00:03<00:00, 39.47it/s]\n"
     ]
    },
    {
     "name": "stdout",
     "output_type": "stream",
     "text": [
      "\n",
      "Epoch 5/100\n",
      "Train Loss: 0.3336\n",
      "Val AUC: 0.9451 | F1: 0.8547\n",
      "Saved new best model with AUC: 0.9451\n"
     ]
    },
    {
     "name": "stderr",
     "output_type": "stream",
     "text": [
      "Epoch 6: 100%|███████████████████████████████████████████████████████████████████████████████████████████████████████████████████████████████████████| 122/122 [00:03<00:00, 40.41it/s]\n"
     ]
    },
    {
     "name": "stdout",
     "output_type": "stream",
     "text": [
      "\n",
      "Epoch 6/100\n",
      "Train Loss: 0.3420\n",
      "Val AUC: 0.9463 | F1: 0.8810\n",
      "Saved new best model with AUC: 0.9463\n"
     ]
    },
    {
     "name": "stderr",
     "output_type": "stream",
     "text": [
      "Epoch 7: 100%|███████████████████████████████████████████████████████████████████████████████████████████████████████████████████████████████████████| 122/122 [00:03<00:00, 37.50it/s]\n"
     ]
    },
    {
     "name": "stdout",
     "output_type": "stream",
     "text": [
      "\n",
      "Epoch 7/100\n",
      "Train Loss: 0.3369\n",
      "Val AUC: 0.9475 | F1: 0.8895\n",
      "Saved new best model with AUC: 0.9475\n"
     ]
    },
    {
     "name": "stderr",
     "output_type": "stream",
     "text": [
      "Epoch 8: 100%|███████████████████████████████████████████████████████████████████████████████████████████████████████████████████████████████████████| 122/122 [00:03<00:00, 36.86it/s]\n"
     ]
    },
    {
     "name": "stdout",
     "output_type": "stream",
     "text": [
      "\n",
      "Epoch 8/100\n",
      "Train Loss: 0.3464\n",
      "Val AUC: 0.9440 | F1: 0.8755\n"
     ]
    },
    {
     "name": "stderr",
     "output_type": "stream",
     "text": [
      "Epoch 9: 100%|███████████████████████████████████████████████████████████████████████████████████████████████████████████████████████████████████████| 122/122 [00:03<00:00, 37.69it/s]\n"
     ]
    },
    {
     "name": "stdout",
     "output_type": "stream",
     "text": [
      "\n",
      "Epoch 9/100\n",
      "Train Loss: 0.3416\n",
      "Val AUC: 0.9404 | F1: 0.8825\n"
     ]
    },
    {
     "name": "stderr",
     "output_type": "stream",
     "text": [
      "Epoch 10: 100%|██████████████████████████████████████████████████████████████████████████████████████████████████████████████████████████████████████| 122/122 [00:03<00:00, 38.16it/s]\n"
     ]
    },
    {
     "name": "stdout",
     "output_type": "stream",
     "text": [
      "\n",
      "Epoch 10/100\n",
      "Train Loss: 0.3322\n",
      "Val AUC: 0.9455 | F1: 0.8638\n"
     ]
    },
    {
     "name": "stderr",
     "output_type": "stream",
     "text": [
      "Epoch 11: 100%|██████████████████████████████████████████████████████████████████████████████████████████████████████████████████████████████████████| 122/122 [00:03<00:00, 37.56it/s]\n"
     ]
    },
    {
     "name": "stdout",
     "output_type": "stream",
     "text": [
      "\n",
      "Epoch 11/100\n",
      "Train Loss: 0.3188\n",
      "Val AUC: 0.9498 | F1: 0.8754\n",
      "Saved new best model with AUC: 0.9498\n"
     ]
    },
    {
     "name": "stderr",
     "output_type": "stream",
     "text": [
      "Epoch 12: 100%|██████████████████████████████████████████████████████████████████████████████████████████████████████████████████████████████████████| 122/122 [00:03<00:00, 37.78it/s]\n"
     ]
    },
    {
     "name": "stdout",
     "output_type": "stream",
     "text": [
      "\n",
      "Epoch 12/100\n",
      "Train Loss: 0.3170\n",
      "Val AUC: 0.9472 | F1: 0.8704\n"
     ]
    },
    {
     "name": "stderr",
     "output_type": "stream",
     "text": [
      "Epoch 13: 100%|██████████████████████████████████████████████████████████████████████████████████████████████████████████████████████████████████████| 122/122 [00:03<00:00, 37.99it/s]\n"
     ]
    },
    {
     "name": "stdout",
     "output_type": "stream",
     "text": [
      "\n",
      "Epoch 13/100\n",
      "Train Loss: 0.3225\n",
      "Val AUC: 0.9475 | F1: 0.8741\n"
     ]
    },
    {
     "name": "stderr",
     "output_type": "stream",
     "text": [
      "Epoch 14: 100%|██████████████████████████████████████████████████████████████████████████████████████████████████████████████████████████████████████| 122/122 [00:03<00:00, 37.78it/s]\n"
     ]
    },
    {
     "name": "stdout",
     "output_type": "stream",
     "text": [
      "\n",
      "Epoch 14/100\n",
      "Train Loss: 0.3225\n",
      "Val AUC: 0.9461 | F1: 0.8797\n"
     ]
    },
    {
     "name": "stderr",
     "output_type": "stream",
     "text": [
      "Epoch 15: 100%|██████████████████████████████████████████████████████████████████████████████████████████████████████████████████████████████████████| 122/122 [00:03<00:00, 37.36it/s]\n"
     ]
    },
    {
     "name": "stdout",
     "output_type": "stream",
     "text": [
      "\n",
      "Epoch 15/100\n",
      "Train Loss: 0.3099\n",
      "Val AUC: 0.9462 | F1: 0.8649\n"
     ]
    },
    {
     "name": "stderr",
     "output_type": "stream",
     "text": [
      "Epoch 16: 100%|██████████████████████████████████████████████████████████████████████████████████████████████████████████████████████████████████████| 122/122 [00:03<00:00, 37.56it/s]\n"
     ]
    },
    {
     "name": "stdout",
     "output_type": "stream",
     "text": [
      "\n",
      "Epoch 16/100\n",
      "Train Loss: 0.3110\n",
      "Val AUC: 0.9485 | F1: 0.8786\n"
     ]
    },
    {
     "name": "stderr",
     "output_type": "stream",
     "text": [
      "Epoch 17: 100%|██████████████████████████████████████████████████████████████████████████████████████████████████████████████████████████████████████| 122/122 [00:03<00:00, 37.28it/s]\n"
     ]
    },
    {
     "name": "stdout",
     "output_type": "stream",
     "text": [
      "Epoch    17: reducing learning rate of group 0 to 2.0000e-04.\n",
      "\n",
      "Epoch 17/100\n",
      "Train Loss: 0.3326\n",
      "Val AUC: 0.9472 | F1: 0.8660\n"
     ]
    },
    {
     "name": "stderr",
     "output_type": "stream",
     "text": [
      "Epoch 18: 100%|██████████████████████████████████████████████████████████████████████████████████████████████████████████████████████████████████████| 122/122 [00:03<00:00, 37.38it/s]\n"
     ]
    },
    {
     "name": "stdout",
     "output_type": "stream",
     "text": [
      "\n",
      "Epoch 18/100\n",
      "Train Loss: 0.2901\n",
      "Val AUC: 0.9491 | F1: 0.8797\n"
     ]
    },
    {
     "name": "stderr",
     "output_type": "stream",
     "text": [
      "Epoch 19: 100%|██████████████████████████████████████████████████████████████████████████████████████████████████████████████████████████████████████| 122/122 [00:03<00:00, 37.77it/s]\n"
     ]
    },
    {
     "name": "stdout",
     "output_type": "stream",
     "text": [
      "\n",
      "Epoch 19/100\n",
      "Train Loss: 0.2887\n",
      "Val AUC: 0.9489 | F1: 0.8824\n"
     ]
    },
    {
     "name": "stderr",
     "output_type": "stream",
     "text": [
      "Epoch 20: 100%|██████████████████████████████████████████████████████████████████████████████████████████████████████████████████████████████████████| 122/122 [00:03<00:00, 37.45it/s]\n"
     ]
    },
    {
     "name": "stdout",
     "output_type": "stream",
     "text": [
      "\n",
      "Epoch 20/100\n",
      "Train Loss: 0.2773\n",
      "Val AUC: 0.9486 | F1: 0.8851\n"
     ]
    },
    {
     "name": "stderr",
     "output_type": "stream",
     "text": [
      "Epoch 21: 100%|██████████████████████████████████████████████████████████████████████████████████████████████████████████████████████████████████████| 122/122 [00:03<00:00, 37.49it/s]\n"
     ]
    },
    {
     "name": "stdout",
     "output_type": "stream",
     "text": [
      "\n",
      "Epoch 21/100\n",
      "Train Loss: 0.3021\n",
      "Val AUC: 0.9494 | F1: 0.8780\n"
     ]
    },
    {
     "name": "stderr",
     "output_type": "stream",
     "text": [
      "Epoch 22: 100%|██████████████████████████████████████████████████████████████████████████████████████████████████████████████████████████████████████| 122/122 [00:03<00:00, 37.30it/s]\n"
     ]
    },
    {
     "name": "stdout",
     "output_type": "stream",
     "text": [
      "\n",
      "Epoch 22/100\n",
      "Train Loss: 0.2979\n",
      "Val AUC: 0.9493 | F1: 0.8771\n"
     ]
    },
    {
     "name": "stderr",
     "output_type": "stream",
     "text": [
      "Epoch 23: 100%|██████████████████████████████████████████████████████████████████████████████████████████████████████████████████████████████████████| 122/122 [00:03<00:00, 38.27it/s]\n"
     ]
    },
    {
     "name": "stdout",
     "output_type": "stream",
     "text": [
      "Epoch    23: reducing learning rate of group 0 to 4.0000e-05.\n",
      "\n",
      "Epoch 23/100\n",
      "Train Loss: 0.2924\n",
      "Val AUC: 0.9476 | F1: 0.8823\n",
      "Early stopping triggered!\n",
      "\n",
      "Fold 5/5\n"
     ]
    },
    {
     "name": "stderr",
     "output_type": "stream",
     "text": [
      "Epoch 1: 100%|███████████████████████████████████████████████████████████████████████████████████████████████████████████████████████████████████████| 122/122 [00:03<00:00, 37.22it/s]\n"
     ]
    },
    {
     "name": "stdout",
     "output_type": "stream",
     "text": [
      "\n",
      "Epoch 1/100\n",
      "Train Loss: 0.4487\n",
      "Val AUC: 0.9147 | F1: 0.8079\n",
      "Saved new best model with AUC: 0.9147\n"
     ]
    },
    {
     "name": "stderr",
     "output_type": "stream",
     "text": [
      "Epoch 2: 100%|███████████████████████████████████████████████████████████████████████████████████████████████████████████████████████████████████████| 122/122 [00:03<00:00, 37.20it/s]\n"
     ]
    },
    {
     "name": "stdout",
     "output_type": "stream",
     "text": [
      "\n",
      "Epoch 2/100\n",
      "Train Loss: 0.3964\n",
      "Val AUC: 0.9326 | F1: 0.8623\n",
      "Saved new best model with AUC: 0.9326\n"
     ]
    },
    {
     "name": "stderr",
     "output_type": "stream",
     "text": [
      "Epoch 3: 100%|███████████████████████████████████████████████████████████████████████████████████████████████████████████████████████████████████████| 122/122 [00:03<00:00, 37.13it/s]\n"
     ]
    },
    {
     "name": "stdout",
     "output_type": "stream",
     "text": [
      "\n",
      "Epoch 3/100\n",
      "Train Loss: 0.3732\n",
      "Val AUC: 0.9402 | F1: 0.8703\n",
      "Saved new best model with AUC: 0.9402\n"
     ]
    },
    {
     "name": "stderr",
     "output_type": "stream",
     "text": [
      "Epoch 4: 100%|███████████████████████████████████████████████████████████████████████████████████████████████████████████████████████████████████████| 122/122 [00:03<00:00, 35.74it/s]\n"
     ]
    },
    {
     "name": "stdout",
     "output_type": "stream",
     "text": [
      "\n",
      "Epoch 4/100\n",
      "Train Loss: 0.3470\n",
      "Val AUC: 0.9409 | F1: 0.8672\n",
      "Saved new best model with AUC: 0.9409\n"
     ]
    },
    {
     "name": "stderr",
     "output_type": "stream",
     "text": [
      "Epoch 5: 100%|███████████████████████████████████████████████████████████████████████████████████████████████████████████████████████████████████████| 122/122 [00:03<00:00, 35.29it/s]\n"
     ]
    },
    {
     "name": "stdout",
     "output_type": "stream",
     "text": [
      "\n",
      "Epoch 5/100\n",
      "Train Loss: 0.3418\n",
      "Val AUC: 0.9449 | F1: 0.8787\n",
      "Saved new best model with AUC: 0.9449\n"
     ]
    },
    {
     "name": "stderr",
     "output_type": "stream",
     "text": [
      "Epoch 6: 100%|███████████████████████████████████████████████████████████████████████████████████████████████████████████████████████████████████████| 122/122 [00:03<00:00, 36.64it/s]\n"
     ]
    },
    {
     "name": "stdout",
     "output_type": "stream",
     "text": [
      "\n",
      "Epoch 6/100\n",
      "Train Loss: 0.3376\n",
      "Val AUC: 0.9444 | F1: 0.8773\n"
     ]
    },
    {
     "name": "stderr",
     "output_type": "stream",
     "text": [
      "Epoch 7: 100%|███████████████████████████████████████████████████████████████████████████████████████████████████████████████████████████████████████| 122/122 [00:03<00:00, 37.61it/s]\n"
     ]
    },
    {
     "name": "stdout",
     "output_type": "stream",
     "text": [
      "\n",
      "Epoch 7/100\n",
      "Train Loss: 0.3230\n",
      "Val AUC: 0.9476 | F1: 0.8741\n",
      "Saved new best model with AUC: 0.9476\n"
     ]
    },
    {
     "name": "stderr",
     "output_type": "stream",
     "text": [
      "Epoch 8: 100%|███████████████████████████████████████████████████████████████████████████████████████████████████████████████████████████████████████| 122/122 [00:03<00:00, 40.53it/s]\n"
     ]
    },
    {
     "name": "stdout",
     "output_type": "stream",
     "text": [
      "\n",
      "Epoch 8/100\n",
      "Train Loss: 0.3326\n",
      "Val AUC: 0.9492 | F1: 0.8507\n",
      "Saved new best model with AUC: 0.9492\n"
     ]
    },
    {
     "name": "stderr",
     "output_type": "stream",
     "text": [
      "Epoch 9: 100%|███████████████████████████████████████████████████████████████████████████████████████████████████████████████████████████████████████| 122/122 [00:03<00:00, 40.51it/s]\n"
     ]
    },
    {
     "name": "stdout",
     "output_type": "stream",
     "text": [
      "\n",
      "Epoch 9/100\n",
      "Train Loss: 0.3213\n",
      "Val AUC: 0.9476 | F1: 0.8722\n"
     ]
    },
    {
     "name": "stderr",
     "output_type": "stream",
     "text": [
      "Epoch 10: 100%|██████████████████████████████████████████████████████████████████████████████████████████████████████████████████████████████████████| 122/122 [00:03<00:00, 39.83it/s]\n"
     ]
    },
    {
     "name": "stdout",
     "output_type": "stream",
     "text": [
      "\n",
      "Epoch 10/100\n",
      "Train Loss: 0.3387\n",
      "Val AUC: 0.9473 | F1: 0.8664\n"
     ]
    },
    {
     "name": "stderr",
     "output_type": "stream",
     "text": [
      "Epoch 11: 100%|██████████████████████████████████████████████████████████████████████████████████████████████████████████████████████████████████████| 122/122 [00:03<00:00, 37.06it/s]\n"
     ]
    },
    {
     "name": "stdout",
     "output_type": "stream",
     "text": [
      "\n",
      "Epoch 11/100\n",
      "Train Loss: 0.3160\n",
      "Val AUC: 0.9503 | F1: 0.8881\n",
      "Saved new best model with AUC: 0.9503\n"
     ]
    },
    {
     "name": "stderr",
     "output_type": "stream",
     "text": [
      "Epoch 12: 100%|██████████████████████████████████████████████████████████████████████████████████████████████████████████████████████████████████████| 122/122 [00:03<00:00, 38.67it/s]\n"
     ]
    },
    {
     "name": "stdout",
     "output_type": "stream",
     "text": [
      "\n",
      "Epoch 12/100\n",
      "Train Loss: 0.3240\n",
      "Val AUC: 0.9495 | F1: 0.8750\n"
     ]
    },
    {
     "name": "stderr",
     "output_type": "stream",
     "text": [
      "Epoch 13: 100%|██████████████████████████████████████████████████████████████████████████████████████████████████████████████████████████████████████| 122/122 [00:03<00:00, 39.07it/s]\n"
     ]
    },
    {
     "name": "stdout",
     "output_type": "stream",
     "text": [
      "\n",
      "Epoch 13/100\n",
      "Train Loss: 0.3336\n",
      "Val AUC: 0.9476 | F1: 0.8805\n"
     ]
    },
    {
     "name": "stderr",
     "output_type": "stream",
     "text": [
      "Epoch 14: 100%|██████████████████████████████████████████████████████████████████████████████████████████████████████████████████████████████████████| 122/122 [00:03<00:00, 36.58it/s]\n"
     ]
    },
    {
     "name": "stdout",
     "output_type": "stream",
     "text": [
      "\n",
      "Epoch 14/100\n",
      "Train Loss: 0.3153\n",
      "Val AUC: 0.9491 | F1: 0.8660\n"
     ]
    },
    {
     "name": "stderr",
     "output_type": "stream",
     "text": [
      "Epoch 15: 100%|██████████████████████████████████████████████████████████████████████████████████████████████████████████████████████████████████████| 122/122 [00:03<00:00, 38.18it/s]\n"
     ]
    },
    {
     "name": "stdout",
     "output_type": "stream",
     "text": [
      "\n",
      "Epoch 15/100\n",
      "Train Loss: 0.3217\n",
      "Val AUC: 0.9489 | F1: 0.8874\n"
     ]
    },
    {
     "name": "stderr",
     "output_type": "stream",
     "text": [
      "Epoch 16: 100%|██████████████████████████████████████████████████████████████████████████████████████████████████████████████████████████████████████| 122/122 [00:03<00:00, 39.81it/s]\n"
     ]
    },
    {
     "name": "stdout",
     "output_type": "stream",
     "text": [
      "\n",
      "Epoch 16/100\n",
      "Train Loss: 0.3002\n",
      "Val AUC: 0.9490 | F1: 0.8567\n"
     ]
    },
    {
     "name": "stderr",
     "output_type": "stream",
     "text": [
      "Epoch 17: 100%|██████████████████████████████████████████████████████████████████████████████████████████████████████████████████████████████████████| 122/122 [00:03<00:00, 38.67it/s]\n"
     ]
    },
    {
     "name": "stdout",
     "output_type": "stream",
     "text": [
      "Epoch    17: reducing learning rate of group 0 to 2.0000e-04.\n",
      "\n",
      "Epoch 17/100\n",
      "Train Loss: 0.3032\n",
      "Val AUC: 0.9478 | F1: 0.8719\n"
     ]
    },
    {
     "name": "stderr",
     "output_type": "stream",
     "text": [
      "Epoch 18: 100%|██████████████████████████████████████████████████████████████████████████████████████████████████████████████████████████████████████| 122/122 [00:03<00:00, 35.59it/s]\n"
     ]
    },
    {
     "name": "stdout",
     "output_type": "stream",
     "text": [
      "\n",
      "Epoch 18/100\n",
      "Train Loss: 0.3163\n",
      "Val AUC: 0.9510 | F1: 0.8834\n",
      "Saved new best model with AUC: 0.9510\n"
     ]
    },
    {
     "name": "stderr",
     "output_type": "stream",
     "text": [
      "Epoch 19: 100%|██████████████████████████████████████████████████████████████████████████████████████████████████████████████████████████████████████| 122/122 [00:03<00:00, 37.09it/s]\n"
     ]
    },
    {
     "name": "stdout",
     "output_type": "stream",
     "text": [
      "\n",
      "Epoch 19/100\n",
      "Train Loss: 0.2941\n",
      "Val AUC: 0.9505 | F1: 0.8798\n",
      "Early stopping triggered!\n",
      "\n",
      "Final Evaluation:\n",
      "AUC: 0.9573\n",
      "Accuracy: 0.8919\n",
      "Precision: 0.8975\n",
      "Recall: 0.9116\n",
      "F1: 0.9045\n"
     ]
    },
    {
     "data": {
      "image/png": "[encoded data removed]",
      "text/plain": [
       "<Figure size 640x480 with 1 Axes>"
      ]
     },
     "metadata": {},
     "output_type": "display_data"
    }
   ],
   "source": [
    "import random\n",
    "import pandas as pd\n",
    "import numpy as np\n",
    "from sklearn.model_selection import StratifiedKFold\n",
    "from sklearn.preprocessing import StandardScaler\n",
    "from sklearn.metrics import (accuracy_score, precision_score,\n",
    "                             recall_score, f1_score, roc_auc_score,\n",
    "                             roc_curve)\n",
    "import torch\n",
    "import torch.nn as nn\n",
    "import torch.optim as optim\n",
    "from torch.utils.data import (DataLoader, TensorDataset,\n",
    "                              WeightedRandomSampler)\n",
    "import matplotlib.pyplot as plt\n",
    "from tqdm import tqdm\n",
    "\n",
    "# 固定随机种子\n",
    "random.seed(42)\n",
    "np.random.seed(42)\n",
    "torch.manual_seed(42)\n",
    "if torch.cuda.is_available():\n",
    "    torch.cuda.manual_seed_all(42)\n",
    "torch.backends.cudnn.deterministic = True\n",
    "torch.backends.cudnn.benchmark = False\n",
    "\n",
    "device = torch.device('cuda' if torch.cuda.is_available() else 'cpu')\n",
    "\n",
    "# --------------------------\n",
    "# 增强型时间序列数据增强\n",
    "# --------------------------\n",
    "class TemporalAugmentation:\n",
    "    \"\"\"支持多策略的时序数据增强\"\"\"\n",
    "    def __init__(self, noise_sigma=0.1, noise_p=0.5,\n",
    "                 shuffle_p=0.3, mask_p=0.3, max_mask_fraction=0.2):\n",
    "        self.noise_sigma = noise_sigma\n",
    "        self.noise_p = noise_p\n",
    "        self.shuffle_p = shuffle_p\n",
    "        self.mask_p = mask_p\n",
    "        self.max_mask_fraction = max_mask_fraction\n",
    "\n",
    "    def __call__(self, x):\n",
    "        # 通道随机打乱\n",
    "        if np.random.rand() < self.shuffle_p:\n",
    "            idx = torch.randperm(x.size(1))\n",
    "            x = x[:, idx]\n",
    "        # 随机特征遮蔽\n",
    "        if np.random.rand() < self.mask_p:\n",
    "            num_features = x.size(1)\n",
    "            # 确保max_mask至少为1\n",
    "            max_mask = max(1, int(num_features * self.max_mask_fraction))\n",
    "            mask_length = np.random.randint(1, max_mask + 1)\n",
    "            # 调整start的生成范围以避免越界\n",
    "            start_max = num_features - mask_length\n",
    "            if start_max < 0:\n",
    "                mask_length = num_features\n",
    "                start_max = 0\n",
    "            start = np.random.randint(0, start_max + 1)\n",
    "            x[:, start:start + mask_length] = 0\n",
    "        # 高斯噪声\n",
    "        if np.random.rand() < self.noise_p:\n",
    "            noise = torch.randn_like(x) * self.noise_sigma\n",
    "            x += noise\n",
    "        return x\n",
    "\n",
    "\n",
    "# --------------------------\n",
    "# 改进的模型架构\n",
    "# --------------------------\n",
    "class MultiScaleAttention(nn.Module):\n",
    "    \"\"\"多尺度注意力机制\"\"\"\n",
    "    def __init__(self, dim):\n",
    "        super().__init__()\n",
    "        self.conv3 = nn.Conv1d(dim, dim, kernel_size=3, padding=1)\n",
    "        self.conv5 = nn.Conv1d(dim, dim, kernel_size=5, padding=2)\n",
    "        self.attn = nn.MultiheadAttention(dim, num_heads=4)\n",
    "        self.norm = nn.LayerNorm(dim)\n",
    "        self.dropout = nn.Dropout(0.2)\n",
    "\n",
    "    def forward(self, x):\n",
    "        # 输入形状: (batch, seq_len, dim)\n",
    "        residual = x\n",
    "        # 多尺度卷积\n",
    "        x_conv3 = self.conv3(x.permute(0,2,1)).permute(0,2,1)\n",
    "        x_conv5 = self.conv5(x.permute(0,2,1)).permute(0,2,1)\n",
    "        # 特征拼接\n",
    "        fused = torch.cat([x, x_conv3, x_conv5], dim=-1)\n",
    "        # 特征融合\n",
    "        fused = fused.mean(dim=-1, keepdim=True).expand_as(x)\n",
    "        # 注意力机制\n",
    "        attn_out, _ = self.attn(fused, fused, fused)\n",
    "        # 残差连接\n",
    "        out = self.norm(residual + attn_out)\n",
    "        return self.dropout(out)\n",
    "\n",
    "class LSTMBranch(nn.Module):\n",
    "    \"\"\"改进的LSTM分支\"\"\"\n",
    "    def __init__(self, input_dim, hidden_dim=128):\n",
    "        super().__init__()\n",
    "        self.augment = TemporalAugmentation(\n",
    "            noise_sigma=0.05, noise_p=0.3,\n",
    "            shuffle_p=0.2, mask_p=0.2, max_mask_fraction=0.1\n",
    "        )\n",
    "        self.lstm = nn.LSTM(\n",
    "            input_size=input_dim,\n",
    "            hidden_size=hidden_dim,\n",
    "            num_layers=2,\n",
    "            batch_first=True,\n",
    "            bidirectional=True\n",
    "        )\n",
    "        self.attention = MultiScaleAttention(hidden_dim*2)\n",
    "        self.proj = nn.Sequential(\n",
    "            nn.Linear(hidden_dim*2, 64),\n",
    "            nn.GELU(),\n",
    "            nn.Dropout(0.3)\n",
    "        )\n",
    "        self.res_fc = nn.Linear(input_dim, 64) if input_dim != 64 else nn.Identity()\n",
    "\n",
    "    def forward(self, x, augment=True):\n",
    "        if self.training and augment:\n",
    "            x = self.augment(x)\n",
    "        residual = self.res_fc(x)\n",
    "        x = x.unsqueeze(1)\n",
    "        output, _ = self.lstm(x)\n",
    "        output = self.attention(output)\n",
    "        output = self.proj(output.squeeze(1))\n",
    "        return output + residual  # 残差连接\n",
    "\n",
    "class CrossAttention(nn.Module):\n",
    "    \"\"\"带残差的交叉注意力\"\"\"\n",
    "    def __init__(self, dim):\n",
    "        super().__init__()\n",
    "        self.attn = nn.MultiheadAttention(dim, num_heads=4)\n",
    "        self.norm = nn.LayerNorm(dim)\n",
    "        self.dropout = nn.Dropout(0.2)\n",
    "        self.mlp = nn.Sequential(\n",
    "            nn.Linear(dim, dim*2),\n",
    "            nn.GELU(),\n",
    "            nn.Dropout(0.2),\n",
    "            nn.Linear(dim*2, dim)\n",
    "        )\n",
    "\n",
    "    def forward(self, q, kv):\n",
    "        residual = q\n",
    "        q = q.unsqueeze(1)\n",
    "        kv = kv.unsqueeze(1)\n",
    "        attn_out, _ = self.attn(q, kv, kv)\n",
    "        attn_out = self.norm(residual + attn_out.squeeze(1))\n",
    "        mlp_out = self.mlp(attn_out)\n",
    "        return self.dropout(attn_out + mlp_out)\n",
    "\n",
    "class MTLSTM(nn.Module):\n",
    "    \"\"\"改进的多时间序列模型\"\"\"\n",
    "    def __init__(self, input_dim1, input_dim2):\n",
    "        super().__init__()\n",
    "        self.branch1 = LSTMBranch(input_dim1)\n",
    "        self.branch2 = LSTMBranch(input_dim2)\n",
    "        \n",
    "        self.cross_attn1 = CrossAttention(64)\n",
    "        self.cross_attn2 = CrossAttention(64)\n",
    "        \n",
    "        self.classifier = nn.Sequential(\n",
    "            nn.Linear(128, 64),\n",
    "            nn.GELU(),\n",
    "            nn.Dropout(0.5),\n",
    "            nn.Linear(64, 1)\n",
    "        )\n",
    "\n",
    "    def forward(self, x1, x2):\n",
    "        out1 = self.branch1(x1)\n",
    "        out2 = self.branch2(x2)\n",
    "        \n",
    "        # 交叉注意力\n",
    "        out1 = self.cross_attn1(out1, out2)\n",
    "        out2 = self.cross_attn2(out2, out1)\n",
    "        \n",
    "        combined = torch.cat([out1, out2], dim=1)\n",
    "        return self.classifier(combined).squeeze(1)\n",
    "\n",
    "# --------------------------\n",
    "# 训练评估模块\n",
    "# --------------------------\n",
    "def train_and_evaluate(model, train_loader, val_loader, optimizer, criterion,\n",
    "                       scheduler=None, epochs=30, save_path='best_model.pth'):\n",
    "    history = {'train_loss': [], 'val_auc': [], 'val_f1': []}\n",
    "    best_auc = 0\n",
    "    early_stop = EarlyStopper(patience=12)\n",
    "\n",
    "    for epoch in range(epochs):\n",
    "        # 训练阶段\n",
    "        model.train()\n",
    "        train_loss = 0\n",
    "        for X1, X2, y in tqdm(train_loader, desc=f\"Epoch {epoch+1}\"):\n",
    "            X1, X2, y = X1.to(device), X2.to(device), y.to(device)\n",
    "            optimizer.zero_grad()\n",
    "            outputs = model(X1, X2)\n",
    "            loss = criterion(outputs, y)\n",
    "            loss.backward()\n",
    "            nn.utils.clip_grad_norm_(model.parameters(), 1.0)\n",
    "            optimizer.step()\n",
    "            train_loss += loss.item()\n",
    "        train_loss /= len(train_loader)\n",
    "        history['train_loss'].append(train_loss)\n",
    "\n",
    "        # 验证阶段\n",
    "        model.eval()\n",
    "        y_true, y_probs = [], []\n",
    "        with torch.no_grad():\n",
    "            for X1, X2, y in val_loader:\n",
    "                X1, X2 = X1.to(device), X2.to(device)\n",
    "                outputs = model(X1, X2)\n",
    "                y_true.extend(y.cpu().numpy())\n",
    "                y_probs.extend(torch.sigmoid(outputs).cpu().numpy())\n",
    "\n",
    "        # 计算指标\n",
    "        auc = roc_auc_score(y_true, y_probs)\n",
    "        preds = np.round(y_probs)\n",
    "        f1 = f1_score(y_true, preds)\n",
    "\n",
    "        history['val_auc'].append(auc)\n",
    "        history['val_f1'].append(f1)\n",
    "\n",
    "        # 学习率调度\n",
    "        if scheduler:\n",
    "            scheduler.step(auc)\n",
    "\n",
    "        print(f\"\\nEpoch {epoch + 1}/{epochs}\")\n",
    "        print(f\"Train Loss: {train_loss:.4f}\")\n",
    "        print(f\"Val AUC: {auc:.4f} | F1: {f1:.4f}\")\n",
    "\n",
    "        # 保存最佳模型\n",
    "        if auc > best_auc:\n",
    "            best_auc = auc\n",
    "            torch.save(model.state_dict(), save_path)\n",
    "            print(f\"Saved new best model with AUC: {auc:.4f}\")\n",
    "\n",
    "        if early_stop(auc):\n",
    "            print(\"Early stopping triggered!\")\n",
    "            break\n",
    "\n",
    "    model.load_state_dict(torch.load(save_path))\n",
    "    return model, history\n",
    "\n",
    "# --------------------------\n",
    "# 辅助函数\n",
    "# --------------------------\n",
    "class EarlyStopper:\n",
    "    def __init__(self, patience=10, min_delta=0.005):\n",
    "        self.patience = patience\n",
    "        self.min_delta = min_delta\n",
    "        self.counter = 0\n",
    "        self.best_score = None\n",
    "\n",
    "    def __call__(self, score):\n",
    "        if self.best_score is None:\n",
    "            self.best_score = score\n",
    "        elif score < self.best_score + self.min_delta:\n",
    "            self.counter += 1\n",
    "            if self.counter >= self.patience:\n",
    "                return True\n",
    "        else:\n",
    "            self.best_score = score\n",
    "            self.counter = 0\n",
    "        return False\n",
    "\n",
    "def create_loaders(train_dataset, val_dataset):\n",
    "    y_train = train_dataset.tensors[2].numpy()\n",
    "    sampler = WeightedRandomSampler(\n",
    "        weights=calc_sample_weights(y_train),\n",
    "        num_samples=len(train_dataset),\n",
    "        replacement=True\n",
    "    )\n",
    "    train_loader = DataLoader(train_dataset, batch_size=128, sampler=sampler)\n",
    "    val_loader = DataLoader(val_dataset, batch_size=256)\n",
    "    return train_loader, val_loader\n",
    "\n",
    "def calc_pos_weight(y):\n",
    "    pos = np.sum(y)\n",
    "    neg = len(y) - pos\n",
    "    return torch.tensor([neg / pos]).to(device) if pos > 0 else torch.tensor([1.0]).to(device)\n",
    "\n",
    "def calc_sample_weights(y):\n",
    "    class_counts = np.bincount(y.astype(int))\n",
    "    return torch.tensor([1/class_counts[int(label)] for label in y])\n",
    "\n",
    "def evaluate_model(model, X1, X2, y):\n",
    "    dataset = TensorDataset(torch.FloatTensor(X1), torch.FloatTensor(X2), torch.FloatTensor(y))\n",
    "    loader = DataLoader(dataset, batch_size=256)\n",
    "    \n",
    "    model.eval()\n",
    "    probs, truths = [], []\n",
    "    with torch.no_grad():\n",
    "        for X1_batch, X2_batch, y_batch in loader:\n",
    "            X1_batch, X2_batch = X1_batch.to(device), X2_batch.to(device)\n",
    "            batch_probs = torch.sigmoid(model(X1_batch, X2_batch)).cpu().numpy()\n",
    "            probs.extend(batch_probs)\n",
    "            truths.extend(y_batch.numpy())\n",
    "    \n",
    "    truths = np.array(truths)\n",
    "    probs = np.array(probs)\n",
    "    preds = np.round(probs)\n",
    "    \n",
    "    print(\"\\nFinal Evaluation:\")\n",
    "    print(f\"AUC: {roc_auc_score(truths, probs):.4f}\")\n",
    "    print(f\"Accuracy: {accuracy_score(truths, preds):.4f}\")\n",
    "    print(f\"Precision: {precision_score(truths, preds):.4f}\")\n",
    "    print(f\"Recall: {recall_score(truths, preds):.4f}\")\n",
    "    print(f\"F1: {f1_score(truths, preds):.4f}\")\n",
    "\n",
    "    # 绘制ROC曲线\n",
    "    fpr, tpr, _ = roc_curve(truths, probs)\n",
    "    plt.figure()\n",
    "    plt.plot(fpr, tpr, label=f'AUC = {roc_auc_score(truths, probs):.2f}')\n",
    "    plt.plot([0, 1], [0, 1], 'k--')\n",
    "    plt.xlabel('False Positive Rate')\n",
    "    plt.ylabel('True Positive Rate')\n",
    "    plt.title('ROC Curve')\n",
    "    plt.legend()\n",
    "    plt.show()\n",
    "\n",
    "# --------------------------\n",
    "# 主流程\n",
    "# --------------------------\n",
    "# if __name__ == \"__main__\":\n",
    "# 加载数据\n",
    "df1 = pd.read_csv('./data/cleaned_microbiologyevents_plus.csv')\n",
    "df2 = pd.read_csv('./data/cleaned_labs_first_day_lgbm.csv')\n",
    "target = 'match_flag'\n",
    "\n",
    "# 数据对齐\n",
    "common_ids = np.intersect1d(df1['hadm_id'], df2['hadm_id'])\n",
    "df1 = df1[df1['hadm_id'].isin(common_ids)].sort_values('hadm_id')\n",
    "df2 = df2[df2['hadm_id'].isin(common_ids)].sort_values('hadm_id')\n",
    "\n",
    "# 特征提取\n",
    "X1 = df1.drop(columns=[target, 'hadm_id']).values.astype(np.float32)\n",
    "X2 = df2.drop(columns=[target, 'hadm_id']).values.astype(np.float32)\n",
    "y = df1[target].values.astype(np.float32)\n",
    "\n",
    "# 交叉验证\n",
    "skf = StratifiedKFold(n_splits=5, shuffle=True, random_state=42)\n",
    "for fold, (train_idx, val_idx) in enumerate(skf.split(X1, y)):\n",
    "    print(f\"\\nFold {fold+1}/5\")\n",
    "    \n",
    "    # 标准化处理\n",
    "    scaler1 = StandardScaler()\n",
    "    X1_train = scaler1.fit_transform(X1[train_idx])\n",
    "    X1_val = scaler1.transform(X1[val_idx])\n",
    "    \n",
    "    scaler2 = StandardScaler()\n",
    "    X2_train = scaler2.fit_transform(X2[train_idx])\n",
    "    X2_val = scaler2.transform(X2[val_idx])\n",
    "    \n",
    "    # 创建数据集\n",
    "    train_dataset = TensorDataset(\n",
    "        torch.FloatTensor(X1_train),\n",
    "        torch.FloatTensor(X2_train),\n",
    "        torch.FloatTensor(y[train_idx])\n",
    "    )\n",
    "    val_dataset = TensorDataset(\n",
    "        torch.FloatTensor(X1_val),\n",
    "        torch.FloatTensor(X2_val),\n",
    "        torch.FloatTensor(y[val_idx])\n",
    "    )\n",
    "    \n",
    "    train_loader, val_loader = create_loaders(train_dataset, val_dataset)\n",
    "    \n",
    "    # 初始化模型\n",
    "    model = MTLSTM(X1.shape[1], X2.shape[1]).to(device)\n",
    "    optimizer = optim.AdamW(model.parameters(), lr=1e-3, weight_decay=1e-4)\n",
    "    criterion = nn.BCEWithLogitsLoss(pos_weight=calc_pos_weight(y[train_idx]))\n",
    "    scheduler = optim.lr_scheduler.ReduceLROnPlateau(\n",
    "        optimizer, mode='max', factor=0.2, patience=5, verbose=True)\n",
    "    \n",
    "    # 训练\n",
    "    model, history = train_and_evaluate(\n",
    "        model, train_loader, val_loader,\n",
    "        optimizer, criterion, scheduler,\n",
    "        epochs=100, save_path=f'best_model_fold{fold}.pth'\n",
    "    )\n",
    "    \n",
    "# 最终评估\n",
    "evaluate_model(model, X1, X2, y)\n"
   ]
  },
  {
   "cell_type": "code",
   "execution_count": 16,
   "id": "df95cc04-3ba8-433c-bbb2-48758ca7cca2",
   "metadata": {},
   "outputs": [
    {
     "name": "stdout",
     "output_type": "stream",
     "text": [
      "\n",
      "Final Evaluation:\n"
     ]
    },
    {
     "ename": "NameError",
     "evalue": "name 'truths' is not defined",
     "output_type": "error",
     "traceback": [
      "\u001b[1;31m---------------------------------------------------------------------------\u001b[0m",
      "\u001b[1;31mNameError\u001b[0m                                 Traceback (most recent call last)",
      "Cell \u001b[1;32mIn[16], line 2\u001b[0m\n\u001b[0;32m      1\u001b[0m \u001b[38;5;28mprint\u001b[39m(\u001b[38;5;124m\"\u001b[39m\u001b[38;5;130;01m\\n\u001b[39;00m\u001b[38;5;124mFinal Evaluation:\u001b[39m\u001b[38;5;124m\"\u001b[39m)\n\u001b[1;32m----> 2\u001b[0m \u001b[38;5;28mprint\u001b[39m(\u001b[38;5;124mf\u001b[39m\u001b[38;5;124m\"\u001b[39m\u001b[38;5;124mAUC: \u001b[39m\u001b[38;5;132;01m{\u001b[39;00mroc_auc_score(truths,\u001b[38;5;250m \u001b[39mprobs)\u001b[38;5;132;01m:\u001b[39;00m\u001b[38;5;124m.4f\u001b[39m\u001b[38;5;132;01m}\u001b[39;00m\u001b[38;5;124m\"\u001b[39m)\n\u001b[0;32m      3\u001b[0m \u001b[38;5;28mprint\u001b[39m(\u001b[38;5;124mf\u001b[39m\u001b[38;5;124m\"\u001b[39m\u001b[38;5;124mAccuracy: \u001b[39m\u001b[38;5;132;01m{\u001b[39;00maccuracy_score(truths,\u001b[38;5;250m \u001b[39mpreds)\u001b[38;5;132;01m:\u001b[39;00m\u001b[38;5;124m.4f\u001b[39m\u001b[38;5;132;01m}\u001b[39;00m\u001b[38;5;124m\"\u001b[39m)\n\u001b[0;32m      4\u001b[0m \u001b[38;5;28mprint\u001b[39m(\u001b[38;5;124mf\u001b[39m\u001b[38;5;124m\"\u001b[39m\u001b[38;5;124mPrecision: \u001b[39m\u001b[38;5;132;01m{\u001b[39;00mprecision_score(truths,\u001b[38;5;250m \u001b[39mpreds)\u001b[38;5;132;01m:\u001b[39;00m\u001b[38;5;124m.4f\u001b[39m\u001b[38;5;132;01m}\u001b[39;00m\u001b[38;5;124m\"\u001b[39m)\n",
      "\u001b[1;31mNameError\u001b[0m: name 'truths' is not defined"
     ]
    }
   ],
   "source": [
    "print(\"\\nFinal Evaluation:\")\n",
    "print(f\"AUC: {roc_auc_score(truths, probs):.4f}\")\n",
    "print(f\"Accuracy: {accuracy_score(truths, preds):.4f}\")\n",
    "print(f\"Precision: {precision_score(truths, preds):.4f}\")\n",
    "print(f\"Recall: {recall_score(truths, preds):.4f}\")\n",
    "print(f\"F1: {f1_score(truths, preds):.4f}\")"
   ]
  },
  {
   "cell_type": "code",
   "execution_count": 13,
   "id": "a09641c8-61dc-42b6-be15-e6dcb5494fa3",
   "metadata": {},
   "outputs": [
    {
     "name": "stdout",
     "output_type": "stream",
     "text": [
      "\n",
      "数据验证:\n",
      "X1形状: (19360, 8), X2形状: (19360, 39)\n",
      "正类比例: 56.19%\n"
     ]
    },
    {
     "name": "stderr",
     "output_type": "stream",
     "text": [
      "Epoch 1: 100%|██████████████████████████████████████████████████████████████████████████████████████████████████████████████████████████████████████| 242/242 [00:02<00:00, 107.19it/s]\n"
     ]
    },
    {
     "name": "stdout",
     "output_type": "stream",
     "text": [
      "\n",
      "Epoch 1/100\n",
      "Train Loss: 0.3452\n",
      "Val AUC: 0.9387 | F1: 0.8548 | Accuracy: 0.8463 | Precision: 0.9115\n",
      "Saved new best model with AUC: 0.9387\n"
     ]
    },
    {
     "name": "stderr",
     "output_type": "stream",
     "text": [
      "Epoch 2: 100%|██████████████████████████████████████████████████████████████████████████████████████████████████████████████████████████████████████| 242/242 [00:02<00:00, 117.58it/s]\n"
     ]
    },
    {
     "name": "stdout",
     "output_type": "stream",
     "text": [
      "\n",
      "Epoch 2/100\n",
      "Train Loss: 0.2764\n",
      "Val AUC: 0.9462 | F1: 0.8776 | Accuracy: 0.8678 | Precision: 0.9148\n",
      "Saved new best model with AUC: 0.9462\n"
     ]
    },
    {
     "name": "stderr",
     "output_type": "stream",
     "text": [
      "Epoch 3: 100%|██████████████████████████████████████████████████████████████████████████████████████████████████████████████████████████████████████| 242/242 [00:01<00:00, 121.07it/s]\n"
     ]
    },
    {
     "name": "stdout",
     "output_type": "stream",
     "text": [
      "\n",
      "Epoch 3/100\n",
      "Train Loss: 0.2589\n",
      "Val AUC: 0.9510 | F1: 0.8897 | Accuracy: 0.8786 | Precision: 0.9089\n",
      "Saved new best model with AUC: 0.9510\n"
     ]
    },
    {
     "name": "stderr",
     "output_type": "stream",
     "text": [
      "Epoch 4: 100%|██████████████████████████████████████████████████████████████████████████████████████████████████████████████████████████████████████| 242/242 [00:02<00:00, 120.50it/s]\n"
     ]
    },
    {
     "name": "stdout",
     "output_type": "stream",
     "text": [
      "\n",
      "Epoch 4/100\n",
      "Train Loss: 0.2562\n",
      "Val AUC: 0.9514 | F1: 0.8950 | Accuracy: 0.8833 | Precision: 0.9051\n",
      "Saved new best model with AUC: 0.9514\n"
     ]
    },
    {
     "name": "stderr",
     "output_type": "stream",
     "text": [
      "Epoch 5: 100%|██████████████████████████████████████████████████████████████████████████████████████████████████████████████████████████████████████| 242/242 [00:02<00:00, 117.10it/s]\n"
     ]
    },
    {
     "name": "stdout",
     "output_type": "stream",
     "text": [
      "\n",
      "Epoch 5/100\n",
      "Train Loss: 0.2422\n",
      "Val AUC: 0.9523 | F1: 0.8919 | Accuracy: 0.8809 | Precision: 0.9105\n",
      "Saved new best model with AUC: 0.9523\n"
     ]
    },
    {
     "name": "stderr",
     "output_type": "stream",
     "text": [
      "Epoch 6: 100%|██████████████████████████████████████████████████████████████████████████████████████████████████████████████████████████████████████| 242/242 [00:02<00:00, 112.68it/s]\n"
     ]
    },
    {
     "name": "stdout",
     "output_type": "stream",
     "text": [
      "\n",
      "Epoch 6/100\n",
      "Train Loss: 0.2521\n",
      "Val AUC: 0.9505 | F1: 0.8934 | Accuracy: 0.8822 | Precision: 0.9091\n"
     ]
    },
    {
     "name": "stderr",
     "output_type": "stream",
     "text": [
      "Epoch 7: 100%|██████████████████████████████████████████████████████████████████████████████████████████████████████████████████████████████████████| 242/242 [00:02<00:00, 115.57it/s]\n"
     ]
    },
    {
     "name": "stdout",
     "output_type": "stream",
     "text": [
      "\n",
      "Epoch 7/100\n",
      "Train Loss: 0.2411\n",
      "Val AUC: 0.9536 | F1: 0.9014 | Accuracy: 0.8897 | Precision: 0.9062\n",
      "Saved new best model with AUC: 0.9536\n"
     ]
    },
    {
     "name": "stderr",
     "output_type": "stream",
     "text": [
      "Epoch 8: 100%|██████████████████████████████████████████████████████████████████████████████████████████████████████████████████████████████████████| 242/242 [00:02<00:00, 117.18it/s]\n"
     ]
    },
    {
     "name": "stdout",
     "output_type": "stream",
     "text": [
      "\n",
      "Epoch 8/100\n",
      "Train Loss: 0.2342\n",
      "Val AUC: 0.9517 | F1: 0.8954 | Accuracy: 0.8833 | Precision: 0.9017\n"
     ]
    },
    {
     "name": "stderr",
     "output_type": "stream",
     "text": [
      "Epoch 9: 100%|██████████████████████████████████████████████████████████████████████████████████████████████████████████████████████████████████████| 242/242 [00:02<00:00, 118.14it/s]\n"
     ]
    },
    {
     "name": "stdout",
     "output_type": "stream",
     "text": [
      "\n",
      "Epoch 9/100\n",
      "Train Loss: 0.2369\n",
      "Val AUC: 0.9528 | F1: 0.8964 | Accuracy: 0.8848 | Precision: 0.9065\n"
     ]
    },
    {
     "name": "stderr",
     "output_type": "stream",
     "text": [
      "Epoch 10: 100%|█████████████████████████████████████████████████████████████████████████████████████████████████████████████████████████████████████| 242/242 [00:02<00:00, 114.65it/s]\n"
     ]
    },
    {
     "name": "stdout",
     "output_type": "stream",
     "text": [
      "\n",
      "Epoch 10/100\n",
      "Train Loss: 0.2233\n",
      "Val AUC: 0.9524 | F1: 0.8935 | Accuracy: 0.8827 | Precision: 0.9128\n"
     ]
    },
    {
     "name": "stderr",
     "output_type": "stream",
     "text": [
      "Epoch 11: 100%|█████████████████████████████████████████████████████████████████████████████████████████████████████████████████████████████████████| 242/242 [00:02<00:00, 119.50it/s]\n"
     ]
    },
    {
     "name": "stdout",
     "output_type": "stream",
     "text": [
      "\n",
      "Epoch 11/100\n",
      "Train Loss: 0.2219\n",
      "Val AUC: 0.9503 | F1: 0.8957 | Accuracy: 0.8840 | Precision: 0.9056\n"
     ]
    },
    {
     "name": "stderr",
     "output_type": "stream",
     "text": [
      "Epoch 12: 100%|█████████████████████████████████████████████████████████████████████████████████████████████████████████████████████████████████████| 242/242 [00:01<00:00, 127.94it/s]\n"
     ]
    },
    {
     "name": "stdout",
     "output_type": "stream",
     "text": [
      "\n",
      "Epoch 12/100\n",
      "Train Loss: 0.2098\n",
      "Val AUC: 0.9534 | F1: 0.8981 | Accuracy: 0.8874 | Precision: 0.9139\n"
     ]
    },
    {
     "name": "stderr",
     "output_type": "stream",
     "text": [
      "Epoch 13: 100%|█████████████████████████████████████████████████████████████████████████████████████████████████████████████████████████████████████| 242/242 [00:01<00:00, 127.71it/s]\n"
     ]
    },
    {
     "name": "stdout",
     "output_type": "stream",
     "text": [
      "\n",
      "Epoch 13/100\n",
      "Train Loss: 0.2117\n",
      "Val AUC: 0.9535 | F1: 0.8943 | Accuracy: 0.8838 | Precision: 0.9145\n"
     ]
    },
    {
     "name": "stderr",
     "output_type": "stream",
     "text": [
      "Epoch 14: 100%|█████████████████████████████████████████████████████████████████████████████████████████████████████████████████████████████████████| 242/242 [00:01<00:00, 122.59it/s]\n"
     ]
    },
    {
     "name": "stdout",
     "output_type": "stream",
     "text": [
      "\n",
      "Epoch 14/100\n",
      "Train Loss: 0.2099\n",
      "Val AUC: 0.9538 | F1: 0.8947 | Accuracy: 0.8840 | Precision: 0.9134\n",
      "Saved new best model with AUC: 0.9538\n",
      "Early stopping triggered!\n",
      "\n",
      "模型评估结果:\n",
      "AUC: 0.9666\n",
      "Accuracy: 0.8986\n",
      "Precision: 0.9294\n",
      "Recall: 0.8868\n",
      "F1: 0.9076\n"
     ]
    },
    {
     "data": {
      "image/png": "[encoded data removed]",
      "text/plain": [
       "<Figure size 800x600 with 1 Axes>"
      ]
     },
     "metadata": {},
     "output_type": "display_data"
    },
    {
     "name": "stdout",
     "output_type": "stream",
     "text": [
      "\n",
      "正在进行SHAP特征重要性分析...\n",
      "SHAP分析失败: tuple index out of range\n"
     ]
    }
   ],
   "source": [
    "import random\n",
    "import pandas as pd\n",
    "import numpy as np\n",
    "from sklearn.model_selection import StratifiedKFold\n",
    "from sklearn.metrics import (accuracy_score, precision_score,\n",
    "                             recall_score, f1_score, roc_auc_score,\n",
    "                             roc_curve)\n",
    "import torch\n",
    "import torch.nn as nn\n",
    "import torch.optim as optim\n",
    "from torch.utils.data import (DataLoader, TensorDataset,\n",
    "                              WeightedRandomSampler)\n",
    "import matplotlib.pyplot as plt\n",
    "from tqdm import tqdm\n",
    "import shap  # 新增SHAP库导入\n",
    "\n",
    "# 固定随机种子\n",
    "random.seed(42)\n",
    "np.random.seed(42)\n",
    "torch.manual_seed(42)\n",
    "if torch.cuda.is_available():\n",
    "    torch.cuda.manual_seed_all(42)\n",
    "torch.backends.cudnn.deterministic = True\n",
    "torch.backends.cudnn.benchmark = False\n",
    "\n",
    "device = torch.device('cuda' if torch.cuda.is_available() else 'cpu')\n",
    "\n",
    "# --------------------------\n",
    "# 时间序列增强模块\n",
    "# --------------------------\n",
    "class TemporalAugmentation:\n",
    "    \"\"\"时间序列数据增强\"\"\"\n",
    "    def __init__(self, sigma=0.1, p=0.5):\n",
    "        self.sigma = sigma\n",
    "        self.p = p\n",
    "\n",
    "    def __call__(self, x):\n",
    "        if np.random.rand() < self.p:\n",
    "            noise = torch.randn_like(x) * self.sigma\n",
    "            return x + noise\n",
    "        return x\n",
    "\n",
    "# --------------------------\n",
    "# MT-LSTM模型架构\n",
    "# --------------------------\n",
    "class LSTMBranch(nn.Module):\n",
    "    \"\"\"LSTM分支处理单个数据流\"\"\"\n",
    "    def __init__(self, input_dim, hidden_dim=128, num_layers=2):\n",
    "        super().__init__()\n",
    "        self.augment = TemporalAugmentation(sigma=0.05, p=0.3)\n",
    "        self.lstm = nn.LSTM(\n",
    "            input_size=input_dim,\n",
    "            hidden_size=hidden_dim,\n",
    "            num_layers=num_layers,\n",
    "            batch_first=True,\n",
    "            bidirectional=True,\n",
    "        )\n",
    "        self.dropout = nn.Dropout(0.3)\n",
    "        self.fc = nn.Linear(hidden_dim*2, 32)\n",
    "\n",
    "    def forward(self, x, augment=True):\n",
    "        if self.training and augment:\n",
    "                x = self.augment(x)\n",
    "        x = x.unsqueeze(1)\n",
    "        output, (h_n, c_n) = self.lstm(x)\n",
    "        output = output.squeeze(1)\n",
    "        output = self.dropout(output)\n",
    "        return self.fc(output)\n",
    "\n",
    "class MTLSTM(nn.Module):\n",
    "    \"\"\"多时间序列LSTM融合模型\"\"\"\n",
    "    def __init__(self, input_dim1, input_dim2):\n",
    "        super().__init__()\n",
    "        self.branch1 = LSTMBranch(input_dim1)\n",
    "        self.branch2 = LSTMBranch(input_dim2)\n",
    "        \n",
    "        self.classifier = nn.Sequential(\n",
    "            nn.Linear(64, 32),\n",
    "            nn.GELU(),\n",
    "            nn.Dropout(0.5),\n",
    "            nn.Linear(32, 1)\n",
    "        )\n",
    "\n",
    "    def forward(self, x1, x2):\n",
    "        out1 = self.branch1(x1)\n",
    "        out2 = self.branch2(x2)\n",
    "        combined = torch.cat([out1, out2], dim=1)\n",
    "        return self.classifier(combined).squeeze(1)\n",
    "\n",
    "# --------------------------\n",
    "# 训练评估模块\n",
    "# --------------------------\n",
    "def train_and_evaluate(model, train_loader, val_loader, optimizer, criterion,\n",
    "                       scheduler=None, epochs=30, save_path='best_model.pth'):\n",
    "    history = {'train_loss': [], 'val_auc': [], 'val_f1': [],\n",
    "               'val_accuracy': [], 'val_precision': []}\n",
    "    best_auc = 0\n",
    "    early_stop = EarlyStopper(patience=10)\n",
    "\n",
    "    for epoch in range(epochs):\n",
    "        model.train()\n",
    "        train_loss = 0\n",
    "        for X1, X2, y in tqdm(train_loader, desc=f\"Epoch {epoch+1}\"):\n",
    "            X1, X2, y = X1.to(device), X2.to(device), y.to(device)\n",
    "            optimizer.zero_grad()\n",
    "            outputs = model(X1, X2)\n",
    "            loss = criterion(outputs, y)\n",
    "            loss.backward()\n",
    "            optimizer.step()\n",
    "            train_loss += loss.item()\n",
    "        train_loss /= len(train_loader)\n",
    "        history['train_loss'].append(train_loss)\n",
    "\n",
    "        model.eval()\n",
    "        y_true, y_probs = [], []\n",
    "        with torch.no_grad():\n",
    "            for X1, X2, y in val_loader:\n",
    "                X1, X2 = X1.to(device), X2.to(device)\n",
    "                outputs = model(X1, X2)\n",
    "                y_true.extend(y.cpu().numpy())\n",
    "                y_probs.extend(torch.sigmoid(outputs).cpu().numpy())\n",
    "\n",
    "        auc = roc_auc_score(y_true, y_probs)\n",
    "        preds = np.round(y_probs)\n",
    "        f1 = f1_score(y_true, preds)\n",
    "        accuracy = accuracy_score(y_true, preds)\n",
    "        precision = precision_score(y_true, preds)\n",
    "\n",
    "        history['val_auc'].append(auc)\n",
    "        history['val_f1'].append(f1)\n",
    "        history['val_accuracy'].append(accuracy)\n",
    "        history['val_precision'].append(precision)\n",
    "\n",
    "        if scheduler:\n",
    "            if isinstance(scheduler, torch.optim.lr_scheduler.ReduceLROnPlateau):\n",
    "                scheduler.step(auc)\n",
    "            else:\n",
    "                scheduler.step()\n",
    "\n",
    "        print(f\"\\nEpoch {epoch + 1}/{epochs}\")\n",
    "        print(f\"Train Loss: {train_loss:.4f}\")\n",
    "        print(f\"Val AUC: {auc:.4f} | F1: {f1:.4f} | Accuracy: {accuracy:.4f} | Precision: {precision:.4f}\")\n",
    "\n",
    "        if auc > best_auc:\n",
    "            best_auc = auc\n",
    "            torch.save(model.state_dict(), save_path)\n",
    "            print(f\"Saved new best model with AUC: {auc:.4f}\")\n",
    "\n",
    "        if early_stop(auc):\n",
    "            print(\"Early stopping triggered!\")\n",
    "            break\n",
    "\n",
    "    model.load_state_dict(torch.load(save_path))\n",
    "    return model, history\n",
    "\n",
    "# --------------------------\n",
    "# 辅助函数\n",
    "# --------------------------\n",
    "def calc_pos_weight(y):\n",
    "    pos = np.sum(y)\n",
    "    neg = len(y) - pos\n",
    "    return torch.tensor([neg / pos]).to(device) if pos > 0 else torch.tensor([1.0]).to(device)\n",
    "\n",
    "def calc_sample_weights(y):\n",
    "    class_counts = np.bincount(y.astype(int))\n",
    "    class_weights = 1. / class_counts\n",
    "    return torch.tensor([class_weights[int(label)] for label in y])\n",
    "\n",
    "class EarlyStopper:\n",
    "    def __init__(self, patience=10, min_delta=0.005):\n",
    "        self.patience = patience\n",
    "        self.min_delta = min_delta\n",
    "        self.counter = 0\n",
    "        self.best_score = None\n",
    "\n",
    "    def __call__(self, score):\n",
    "        if self.best_score is None:\n",
    "            self.best_score = score\n",
    "        elif score < self.best_score + self.min_delta:\n",
    "            self.counter += 1\n",
    "            if self.counter >= self.patience:\n",
    "                return True\n",
    "        else:\n",
    "            self.best_score = score\n",
    "            self.counter = 0\n",
    "        return False\n",
    "\n",
    "def create_loaders(dataset):\n",
    "    y = dataset.tensors[2].numpy()\n",
    "    skf = StratifiedKFold(n_splits=5, shuffle=True, random_state=42)\n",
    "    train_idx, val_idx = next(skf.split(np.zeros(len(y)), y))\n",
    "    \n",
    "    train_dataset = torch.utils.data.Subset(dataset, train_idx)\n",
    "    val_dataset = torch.utils.data.Subset(dataset, val_idx)\n",
    "    \n",
    "    y_train = y[train_idx]\n",
    "    sampler = WeightedRandomSampler(\n",
    "        weights=calc_sample_weights(y_train),\n",
    "        num_samples=len(train_dataset),\n",
    "        replacement=True\n",
    "    )\n",
    "    \n",
    "    train_loader = DataLoader(train_dataset, batch_size=64, sampler=sampler)\n",
    "    val_loader = DataLoader(val_dataset, batch_size=64)\n",
    "    return train_loader, val_loader\n",
    "\n",
    "def evaluate_model(model, X1, X2, y):\n",
    "    dataset = TensorDataset(torch.FloatTensor(X1), torch.FloatTensor(X2), torch.FloatTensor(y))\n",
    "    loader = DataLoader(dataset, batch_size=256, shuffle=False)\n",
    "    \n",
    "    model.eval()\n",
    "    probs, truths = [], []\n",
    "    with torch.no_grad():\n",
    "        for X1_batch, X2_batch, y_batch in loader:\n",
    "            X1_batch, X2_batch = X1_batch.to(device), X2_batch.to(device)\n",
    "            batch_probs = torch.sigmoid(model(X1_batch, X2_batch)).cpu().numpy()\n",
    "            probs.extend(batch_probs)\n",
    "            truths.extend(y_batch.cpu().numpy())\n",
    "    \n",
    "    truths = np.array(truths)\n",
    "    probs = np.array(probs)\n",
    "    preds = np.round(probs)\n",
    "    \n",
    "    print(\"\\n模型评估结果:\")\n",
    "    print(f\"AUC: {roc_auc_score(truths, probs):.4f}\")\n",
    "    print(f\"Accuracy: {accuracy_score(truths, preds):.4f}\")\n",
    "    print(f\"Precision: {precision_score(truths, preds):.4f}\")\n",
    "    print(f\"Recall: {recall_score(truths, preds):.4f}\")\n",
    "    print(f\"F1: {f1_score(truths, preds):.4f}\")\n",
    "\n",
    "    fpr, tpr, _ = roc_curve(truths, probs)\n",
    "    plt.figure(figsize=(8, 6))\n",
    "    plt.plot(fpr, tpr, label=f'AUC = {roc_auc_score(truths, probs):.2f}')\n",
    "    plt.plot([0, 1], [0, 1], 'k--')\n",
    "    plt.xlabel('False Positive Rate')\n",
    "    plt.ylabel('True Positive Rate')\n",
    "    plt.title('ROC Curve')\n",
    "    plt.legend()\n",
    "    plt.show()\n",
    "\n",
    "\n",
    "\n",
    "# --------------------------\n",
    "# 主流程\n",
    "# --------------------------\n",
    "# 数据加载与预处理\n",
    "df1 = pd.read_csv('./data/cleaned_microbiologyevents_plus.csv')\n",
    "df2 = pd.read_csv('./data/cleaned_labs_first_day_lgbm.csv')\n",
    "target = 'match_flag'\n",
    "\n",
    "common_ids = np.intersect1d(df1['hadm_id'], df2['hadm_id'])\n",
    "df1 = df1[df1['hadm_id'].isin(common_ids)].sort_values('hadm_id').reset_index(drop=True)\n",
    "df2 = df2[df2['hadm_id'].isin(common_ids)].sort_values('hadm_id').reset_index(drop=True)\n",
    "\n",
    "feature_names1 = df1.drop(columns=[target, 'hadm_id']).columns.tolist()\n",
    "feature_names2 = df2.drop(columns=[target, 'hadm_id']).columns.tolist()\n",
    "X1 = df1.drop(columns=[target, 'hadm_id']).values.astype(np.float32)\n",
    "X2 = df2.drop(columns=[target, 'hadm_id']).values.astype(np.float32)\n",
    "y = df1[target].values.astype(np.float32)\n",
    "\n",
    "print(\"\\n数据验证:\")\n",
    "print(f\"X1形状: {X1.shape}, X2形状: {X2.shape}\")\n",
    "print(f\"正类比例: {np.mean(y):.2%}\")\n",
    "\n",
    "dataset = TensorDataset(\n",
    "    torch.FloatTensor(X1), \n",
    "    torch.FloatTensor(X2), \n",
    "    torch.FloatTensor(y)\n",
    ")\n",
    "train_loader, val_loader = create_loaders(dataset)\n",
    "\n",
    "model = MTLSTM(\n",
    "    input_dim1=X1.shape[1], \n",
    "    input_dim2=X2.shape[1]\n",
    ").to(device)\n",
    "\n",
    "optimizer = optim.AdamW(model.parameters(), lr=0.001, weight_decay=1e-4)\n",
    "criterion = nn.BCEWithLogitsLoss(pos_weight=calc_pos_weight(y))\n",
    "scheduler = optim.lr_scheduler.ReduceLROnPlateau(optimizer, mode='max', factor=0.1, patience=3)\n",
    "\n",
    "model, history = train_and_evaluate(\n",
    "    model, train_loader, val_loader,\n",
    "    optimizer, criterion, scheduler,\n",
    "    epochs=100, save_path='best_mt_lstm.pth'\n",
    ")\n",
    "\n",
    "evaluate_model(model, X1, X2, y)\n"
   ]
  },
  {
   "cell_type": "code",
   "execution_count": null,
   "id": "539f90cf-9693-4dc4-b37e-5a811779e368",
   "metadata": {},
   "outputs": [],
   "source": []
  }
 ],
 "metadata": {
  "kernelspec": {
   "display_name": "Python 3 (ipykernel)",
   "language": "python",
   "name": "python3"
  },
  "language_info": {
   "codemirror_mode": {
    "name": "ipython",
    "version": 3
   },
   "file_extension": ".py",
   "mimetype": "text/x-python",
   "name": "python",
   "nbconvert_exporter": "python",
   "pygments_lexer": "ipython3",
   "version": "3.8.0"
  }
 },
 "nbformat": 4,
 "nbformat_minor": 5
}
